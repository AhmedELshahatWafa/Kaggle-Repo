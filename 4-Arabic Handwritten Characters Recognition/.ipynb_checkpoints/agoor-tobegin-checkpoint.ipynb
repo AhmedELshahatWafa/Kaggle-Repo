{
 "cells": [
  {
   "cell_type": "code",
   "execution_count": null,
   "metadata": {
    "_cell_guid": "b1076dfc-b9ad-4769-8c92-a6c4dae69d19",
    "_kg_hide-input": true,
    "_kg_hide-output": true,
    "_uuid": "8f2839f25d086af736a60e9eeb907d3b93b6e0e5",
    "execution": {
     "iopub.execute_input": "2021-10-21T15:04:51.867543Z",
     "iopub.status.busy": "2021-10-21T15:04:51.867076Z",
     "iopub.status.idle": "2021-10-21T15:04:56.777035Z",
     "shell.execute_reply": "2021-10-21T15:04:56.776093Z",
     "shell.execute_reply.started": "2021-10-21T15:04:51.867509Z"
    },
    "scrolled": true
   },
   "outputs": [],
   "source": [
    "# This Python 3 environment comes with many helpful analytics libraries installed\n",
    "# It is defined by the kaggle/python Docker image: https://github.com/kaggle/docker-python\n",
    "# For example, here's several helpful packages to load\n",
    "\n",
    "import numpy as np # linear algebra\n",
    "import pandas as pd # data processing, CSV file I/O (e.g. pd.read_csv)\n",
    "\n",
    "# Input data files are available in the read-only \"../input/\" directory\n",
    "# For example, running this (by clicking run or pressing Shift+Enter) will list all files under the input directory\n",
    "\n",
    "import os\n",
    "for dirname, _, filenames in os.walk('C:\\Users\\Ahmed-wafa\\Desktop\\AI pro\\Kaggle\\4-Arabic Handwritten Characters Recognition'):\n",
    "    for filename in filenames:\n",
    "        print(os.path.join(dirname, filename))\n",
    "\n",
    "# You can write up to 20GB to the current directory (/kaggle/working/) that gets preserved as output when you create a version using \"Save & Run All\" \n",
    "# You can also write temporary files to /kaggle/temp/, but they won't be saved outside of the current session"
   ]
  },
  {
   "cell_type": "code",
   "execution_count": null,
   "metadata": {
    "execution": {
     "iopub.execute_input": "2021-10-21T15:04:56.779459Z",
     "iopub.status.busy": "2021-10-21T15:04:56.779155Z",
     "iopub.status.idle": "2021-10-21T15:04:56.791193Z",
     "shell.execute_reply": "2021-10-21T15:04:56.790565Z",
     "shell.execute_reply.started": "2021-10-21T15:04:56.77942Z"
    }
   },
   "outputs": [],
   "source": [
    "## Most Important\n",
    "import numpy as np\n",
    "import pandas as pd\n",
    "import matplotlib.pyplot as plt\n",
    "%matplotlib inline\n",
    "import seaborn as sns\n",
    "from pathlib import Path\n",
    "from PIL import Image\n",
    "\n",
    "## less Important\n",
    "from functools import partial\n",
    "import os\n",
    "from scipy import stats\n",
    "import missingno as msno\n",
    "import joblib\n",
    "import tarfile\n",
    "import shutil\n",
    "import urllib\n",
    "\n",
    "## Sklearn\n",
    "from sklearn import datasets\n",
    "## Preprocessing\n",
    "from sklearn.preprocessing import StandardScaler\n",
    "from sklearn.model_selection import train_test_split\n",
    "## Metrics\n",
    "from sklearn.metrics import accuracy_score\n",
    "\n",
    "## tensorflow & Keras\n",
    "import tensorflow as tf    ## i will use tf for every thing and for keras using tf.keras"
   ]
  },
  {
   "cell_type": "markdown",
   "metadata": {},
   "source": [
    "## Loading the Data and Look at the Big Picture"
   ]
  },
  {
   "cell_type": "markdown",
   "metadata": {},
   "source": [
    "`Only for training here`"
   ]
  },
  {
   "cell_type": "code",
   "execution_count": null,
   "metadata": {
    "execution": {
     "iopub.execute_input": "2021-10-21T15:04:56.792681Z",
     "iopub.status.busy": "2021-10-21T15:04:56.792478Z",
     "iopub.status.idle": "2021-10-21T15:04:57.06096Z",
     "shell.execute_reply": "2021-10-21T15:04:57.060167Z",
     "shell.execute_reply.started": "2021-10-21T15:04:56.792655Z"
    }
   },
   "outputs": [],
   "source": [
    "train_labels = pd.read_csv('../input/arabic-hwr-ai-pro-intake1/train.csv')\n",
    "train_images = Path(r'../input/arabic-hwr-ai-pro-intake1/train')\n",
    "\n",
    "## read these all training images paths as Series\n",
    "train_images_paths = pd.Series(sorted(list(train_images.glob(r'*.png'))), name='Filepath').astype(str)\n",
    "\n",
    "train_images_paths.head()"
   ]
  },
  {
   "cell_type": "markdown",
   "metadata": {},
   "source": [
    "## Explore the Data"
   ]
  },
  {
   "cell_type": "code",
   "execution_count": null,
   "metadata": {
    "execution": {
     "iopub.execute_input": "2021-10-21T15:04:57.063284Z",
     "iopub.status.busy": "2021-10-21T15:04:57.062866Z",
     "iopub.status.idle": "2021-10-21T15:04:58.709921Z",
     "shell.execute_reply": "2021-10-21T15:04:58.709067Z",
     "shell.execute_reply.started": "2021-10-21T15:04:57.06324Z"
    }
   },
   "outputs": [],
   "source": [
    "img_key_value = {}\n",
    "for value in train_labels['label'].unique():\n",
    "    img_key_value[value] = train_labels[train_labels['label']==value].index[0]\n",
    "    \n",
    "img_index = list(img_key_value.values())\n",
    "img_label = list(img_key_value.keys())\n",
    "\n",
    "fig, ax = plt.subplots(4, 7, figsize=(12, 8))\n",
    "\n",
    "i = 0\n",
    "for row in range(4):\n",
    "    for col in range(7):\n",
    "        plt.sca(ax[row, col])\n",
    "        plt.title(f'label = {img_label[i]}')\n",
    "        img = plt.imread(train_images_paths.iloc[img_index[i]])\n",
    "        plt.imshow(img)\n",
    "        plt.axis('off')\n",
    "        i+=1"
   ]
  },
  {
   "cell_type": "code",
   "execution_count": null,
   "metadata": {
    "execution": {
     "iopub.execute_input": "2021-10-21T15:04:58.71129Z",
     "iopub.status.busy": "2021-10-21T15:04:58.711057Z",
     "iopub.status.idle": "2021-10-21T15:04:58.718386Z",
     "shell.execute_reply": "2021-10-21T15:04:58.717566Z",
     "shell.execute_reply.started": "2021-10-21T15:04:58.711262Z"
    }
   },
   "outputs": [],
   "source": [
    "print('Number of Instances in train_set =>', len(train_images_paths))\n",
    "print('Number of Instances in train_labels =>', len(train_labels))\n",
    "\n",
    "print()\n",
    "\n",
    "img = plt.imread(train_images_paths.iloc[img_index[0]])\n",
    "print('shape of each Image is =>', img.shape)"
   ]
  },
  {
   "cell_type": "markdown",
   "metadata": {},
   "source": [
    "## Data Preprocessing"
   ]
  },
  {
   "cell_type": "code",
   "execution_count": null,
   "metadata": {
    "execution": {
     "iopub.execute_input": "2021-10-21T15:04:58.720204Z",
     "iopub.status.busy": "2021-10-21T15:04:58.719594Z",
     "iopub.status.idle": "2021-10-21T15:05:08.930143Z",
     "shell.execute_reply": "2021-10-21T15:05:08.929349Z",
     "shell.execute_reply.started": "2021-10-21T15:04:58.720169Z"
    }
   },
   "outputs": [],
   "source": [
    "train_full_labels = train_labels['label'].values\n",
    "train_full_set = np.empty((13440, 32, 32, 3), dtype=np.float32)  #take only the first 3 channels\n",
    "\n",
    "for idx, path in enumerate(train_images_paths):\n",
    "    img = plt.imread(path)\n",
    "    img = img[:,:,:3]\n",
    "    train_full_set[idx] = img\n",
    "    \n",
    "print('train_full_set.shape =>', train_full_set.shape)\n",
    "print('train_full_labels.shape =>', train_full_labels.shape)"
   ]
  },
  {
   "cell_type": "markdown",
   "metadata": {},
   "source": [
    "## Split the Data"
   ]
  },
  {
   "cell_type": "code",
   "execution_count": null,
   "metadata": {
    "execution": {
     "iopub.execute_input": "2021-10-21T15:05:08.931299Z",
     "iopub.status.busy": "2021-10-21T15:05:08.931083Z",
     "iopub.status.idle": "2021-10-21T15:05:09.011864Z",
     "shell.execute_reply": "2021-10-21T15:05:09.011016Z",
     "shell.execute_reply.started": "2021-10-21T15:05:08.931274Z"
    }
   },
   "outputs": [],
   "source": [
    "X_train, X_valid, y_train, y_valid = train_test_split(train_full_set, train_full_labels, \n",
    "                                                      test_size=0.2, shuffle=True, random_state=42)\n",
    "\n",
    "print('X_train.shape =>', X_train.shape)\n",
    "print('X_valid.shape =>', X_valid.shape)\n",
    "print('y_train.shape =>', y_train.shape)\n",
    "print('y_valid.shape =>', y_valid.shape)"
   ]
  },
  {
   "cell_type": "markdown",
   "metadata": {},
   "source": [
    "## Model Training"
   ]
  },
  {
   "cell_type": "code",
   "execution_count": null,
   "metadata": {
    "_kg_hide-output": true,
    "execution": {
     "iopub.execute_input": "2021-10-21T15:06:25.459528Z",
     "iopub.status.busy": "2021-10-21T15:06:25.459015Z",
     "iopub.status.idle": "2021-10-21T15:06:25.517507Z",
     "shell.execute_reply": "2021-10-21T15:06:25.516861Z",
     "shell.execute_reply.started": "2021-10-21T15:06:25.459487Z"
    }
   },
   "outputs": [],
   "source": [
    "model = tf.keras.models.Sequential([\n",
    "    tf.keras.layers.Conv2D(filters=16, kernel_size=3, activation='relu',input_shape=(32, 32, 3)),\n",
    "    tf.keras.layers.MaxPooling2D(pool_size=2),\n",
    "    \n",
    "    tf.keras.layers.Conv2D(filters=32, kernel_size=3, activation='relu'),\n",
    "    tf.keras.layers.MaxPooling2D(pool_size=2),\n",
    "    \n",
    "    tf.keras.layers.Conv2D(filters=64, kernel_size=3, activation='relu', ),\n",
    "    tf.keras.layers.MaxPooling2D(pool_size=2),\n",
    "    \n",
    "    tf.keras.layers.GlobalAveragePooling2D(),\n",
    "    tf.keras.layers.Dense(29, activation='softmax')\n",
    " \n",
    "])"
   ]
  },
  {
   "cell_type": "code",
   "execution_count": null,
   "metadata": {
    "execution": {
     "iopub.execute_input": "2021-10-21T15:06:27.282582Z",
     "iopub.status.busy": "2021-10-21T15:06:27.282258Z",
     "iopub.status.idle": "2021-10-21T15:06:27.293561Z",
     "shell.execute_reply": "2021-10-21T15:06:27.29263Z",
     "shell.execute_reply.started": "2021-10-21T15:06:27.282547Z"
    }
   },
   "outputs": [],
   "source": [
    "model.compile(loss='sparse_categorical_crossentropy', optimizer='adam', metrics=['accuracy'])\n",
    "early_stopp = tf.keras.callbacks.EarlyStopping(patience=5, restore_best_weights=True)"
   ]
  },
  {
   "cell_type": "code",
   "execution_count": null,
   "metadata": {
    "execution": {
     "iopub.execute_input": "2021-10-21T15:06:27.425054Z",
     "iopub.status.busy": "2021-10-21T15:06:27.424646Z",
     "iopub.status.idle": "2021-10-21T15:07:01.206474Z",
     "shell.execute_reply": "2021-10-21T15:07:01.205758Z",
     "shell.execute_reply.started": "2021-10-21T15:06:27.425023Z"
    }
   },
   "outputs": [],
   "source": [
    "history = model.fit(X_train, y_train, validation_data=(X_valid, y_valid), \n",
    "                    epochs=10, batch_size=32, callbacks=[early_stopp])"
   ]
  },
  {
   "cell_type": "code",
   "execution_count": null,
   "metadata": {
    "execution": {
     "iopub.execute_input": "2021-10-21T15:07:03.118951Z",
     "iopub.status.busy": "2021-10-21T15:07:03.118535Z",
     "iopub.status.idle": "2021-10-21T15:07:03.395906Z",
     "shell.execute_reply": "2021-10-21T15:07:03.394968Z",
     "shell.execute_reply.started": "2021-10-21T15:07:03.11892Z"
    }
   },
   "outputs": [],
   "source": [
    "pd.DataFrame(history.history).plot(figsize=(10, 6));"
   ]
  },
  {
   "cell_type": "code",
   "execution_count": null,
   "metadata": {
    "execution": {
     "iopub.execute_input": "2021-10-21T15:07:05.407738Z",
     "iopub.status.busy": "2021-10-21T15:07:05.407459Z",
     "iopub.status.idle": "2021-10-21T15:07:06.822754Z",
     "shell.execute_reply": "2021-10-21T15:07:06.821714Z",
     "shell.execute_reply.started": "2021-10-21T15:07:05.407711Z"
    }
   },
   "outputs": [],
   "source": [
    "loss_all_data, acc_all_data = model.evaluate(train_full_set, train_full_labels, verbose=0)\n",
    "print('loss_all_data =>', loss_all_data)\n",
    "print('acc_all_data =>', acc_all_data)"
   ]
  },
  {
   "cell_type": "markdown",
   "metadata": {},
   "source": [
    "## Evaluation on Testing DataSet"
   ]
  },
  {
   "cell_type": "code",
   "execution_count": null,
   "metadata": {
    "execution": {
     "iopub.execute_input": "2021-10-21T15:07:08.867907Z",
     "iopub.status.busy": "2021-10-21T15:07:08.867476Z",
     "iopub.status.idle": "2021-10-21T15:07:08.937738Z",
     "shell.execute_reply": "2021-10-21T15:07:08.936933Z",
     "shell.execute_reply.started": "2021-10-21T15:07:08.867869Z"
    }
   },
   "outputs": [],
   "source": [
    "test_labels = pd.read_csv('../input/arabic-hwr-ai-pro-intake1/test.csv')\n",
    "test_images = Path(r'../input/arabic-hwr-ai-pro-intake1/test')\n",
    "\n",
    "## read these all training images paths as Series\n",
    "test_images_paths = pd.Series(sorted(list(test_images.glob(r'*.png'))), name='Filepath').astype(str)\n",
    "\n",
    "test_images_paths.head()"
   ]
  },
  {
   "cell_type": "code",
   "execution_count": null,
   "metadata": {
    "execution": {
     "iopub.execute_input": "2021-10-21T15:07:09.100761Z",
     "iopub.status.busy": "2021-10-21T15:07:09.100211Z",
     "iopub.status.idle": "2021-10-21T15:07:09.106338Z",
     "shell.execute_reply": "2021-10-21T15:07:09.105513Z",
     "shell.execute_reply.started": "2021-10-21T15:07:09.100711Z"
    }
   },
   "outputs": [],
   "source": [
    "print('Number of Instances in test_set is', len(test_images_paths))"
   ]
  },
  {
   "cell_type": "code",
   "execution_count": null,
   "metadata": {
    "execution": {
     "iopub.execute_input": "2021-10-21T15:07:09.890943Z",
     "iopub.status.busy": "2021-10-21T15:07:09.890537Z",
     "iopub.status.idle": "2021-10-21T15:07:25.194213Z",
     "shell.execute_reply": "2021-10-21T15:07:25.19323Z",
     "shell.execute_reply.started": "2021-10-21T15:07:09.890915Z"
    }
   },
   "outputs": [],
   "source": [
    "test_full_set = np.empty((3360, 32, 32, 3), dtype=np.float32)  #take only the first 3 channels\n",
    "\n",
    "for idx, path in enumerate(test_images_paths):\n",
    "    img = plt.imread(path)\n",
    "    img = img[:,:,:3]\n",
    "    test_full_set[idx] = img\n",
    "    \n",
    "print('test_full_set.shape =>', test_full_set.shape)"
   ]
  },
  {
   "cell_type": "code",
   "execution_count": null,
   "metadata": {
    "execution": {
     "iopub.execute_input": "2021-10-21T15:07:25.196686Z",
     "iopub.status.busy": "2021-10-21T15:07:25.196191Z",
     "iopub.status.idle": "2021-10-21T15:07:25.671064Z",
     "shell.execute_reply": "2021-10-21T15:07:25.670134Z",
     "shell.execute_reply.started": "2021-10-21T15:07:25.19664Z"
    }
   },
   "outputs": [],
   "source": [
    "y_preds_classes = np.argmax(model.predict(test_full_set), axis=-1)"
   ]
  },
  {
   "cell_type": "code",
   "execution_count": null,
   "metadata": {
    "execution": {
     "iopub.execute_input": "2021-10-21T15:07:25.672584Z",
     "iopub.status.busy": "2021-10-21T15:07:25.672296Z",
     "iopub.status.idle": "2021-10-21T15:07:25.677946Z",
     "shell.execute_reply": "2021-10-21T15:07:25.677141Z",
     "shell.execute_reply.started": "2021-10-21T15:07:25.672552Z"
    }
   },
   "outputs": [],
   "source": [
    "test_labels['label'] = y_preds_classes"
   ]
  },
  {
   "cell_type": "code",
   "execution_count": null,
   "metadata": {
    "execution": {
     "iopub.execute_input": "2021-10-21T15:07:25.679836Z",
     "iopub.status.busy": "2021-10-21T15:07:25.679611Z",
     "iopub.status.idle": "2021-10-21T15:07:25.703874Z",
     "shell.execute_reply": "2021-10-21T15:07:25.703114Z",
     "shell.execute_reply.started": "2021-10-21T15:07:25.679808Z"
    }
   },
   "outputs": [],
   "source": [
    "test_labels"
   ]
  },
  {
   "cell_type": "code",
   "execution_count": null,
   "metadata": {
    "execution": {
     "iopub.execute_input": "2021-10-21T15:07:25.705724Z",
     "iopub.status.busy": "2021-10-21T15:07:25.705316Z",
     "iopub.status.idle": "2021-10-21T15:07:25.722387Z",
     "shell.execute_reply": "2021-10-21T15:07:25.721368Z",
     "shell.execute_reply.started": "2021-10-21T15:07:25.705676Z"
    }
   },
   "outputs": [],
   "source": [
    "test_labels[['id', 'label']].to_csv('/kaggle/working/submission.csv', index=False)"
   ]
  },
  {
   "cell_type": "markdown",
   "metadata": {},
   "source": [
    "## Done :D"
   ]
  }
 ],
 "metadata": {
  "kernelspec": {
   "display_name": "Python 3",
   "language": "python",
   "name": "python3"
  },
  "language_info": {
   "codemirror_mode": {
    "name": "ipython",
    "version": 3
   },
   "file_extension": ".py",
   "mimetype": "text/x-python",
   "name": "python",
   "nbconvert_exporter": "python",
   "pygments_lexer": "ipython3",
   "version": "3.8.5"
  }
 },
 "nbformat": 4,
 "nbformat_minor": 4
}
