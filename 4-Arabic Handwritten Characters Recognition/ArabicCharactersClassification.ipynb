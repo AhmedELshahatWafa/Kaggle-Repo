{
 "cells": [
  {
   "cell_type": "markdown",
   "metadata": {},
   "source": [
    "# Problem"
   ]
  },
  {
   "cell_type": "markdown",
   "metadata": {},
   "source": [
    "+ You're given images of handwritten Arabic characters and you're required to recognize the character.\n",
    "\n"
   ]
  },
  {
   "cell_type": "markdown",
   "metadata": {},
   "source": [
    "## https://www.kaggle.com/c/arabic-hwr-ai-pro-intake1/overview"
   ]
  },
  {
   "cell_type": "markdown",
   "metadata": {},
   "source": [
    "## Ranked 21th"
   ]
  },
  {
   "cell_type": "code",
   "execution_count": 1,
   "metadata": {},
   "outputs": [
    {
     "data": {
      "application/javascript": [
       "\n",
       "            setTimeout(function() {\n",
       "                var nbb_cell_id = 1;\n",
       "                var nbb_unformatted_code = \"%load_ext nb_black\";\n",
       "                var nbb_formatted_code = \"%load_ext nb_black\";\n",
       "                var nbb_cells = Jupyter.notebook.get_cells();\n",
       "                for (var i = 0; i < nbb_cells.length; ++i) {\n",
       "                    if (nbb_cells[i].input_prompt_number == nbb_cell_id) {\n",
       "                        if (nbb_cells[i].get_text() == nbb_unformatted_code) {\n",
       "                             nbb_cells[i].set_text(nbb_formatted_code);\n",
       "                        }\n",
       "                        break;\n",
       "                    }\n",
       "                }\n",
       "            }, 500);\n",
       "            "
      ],
      "text/plain": [
       "<IPython.core.display.Javascript object>"
      ]
     },
     "metadata": {},
     "output_type": "display_data"
    }
   ],
   "source": [
    "%load_ext nb_black"
   ]
  },
  {
   "cell_type": "code",
   "execution_count": 2,
   "metadata": {},
   "outputs": [
    {
     "data": {
      "application/javascript": [
       "\n",
       "            setTimeout(function() {\n",
       "                var nbb_cell_id = 2;\n",
       "                var nbb_unformatted_code = \"import numpy as np\\nimport tensorflow as tf\\nimport matplotlib.pyplot as plt\\n\\n# import seaborn as sns\\nimport os\\nimport pandas as pd\\nfrom sklearn.model_selection import train_test_split\\nfrom tensorflow.keras.preprocessing.image import ImageDataGenerator\\nfrom tensorflow.keras.optimizers import Adam, SGD\\nfrom sklearn.metrics import accuracy_score\\nfrom tensorflow.keras.layers import Conv2D, MaxPooling2D, Flatten, Dense\";\n",
       "                var nbb_formatted_code = \"import numpy as np\\nimport tensorflow as tf\\nimport matplotlib.pyplot as plt\\n\\n# import seaborn as sns\\nimport os\\nimport pandas as pd\\nfrom sklearn.model_selection import train_test_split\\nfrom tensorflow.keras.preprocessing.image import ImageDataGenerator\\nfrom tensorflow.keras.optimizers import Adam, SGD\\nfrom sklearn.metrics import accuracy_score\\nfrom tensorflow.keras.layers import Conv2D, MaxPooling2D, Flatten, Dense\";\n",
       "                var nbb_cells = Jupyter.notebook.get_cells();\n",
       "                for (var i = 0; i < nbb_cells.length; ++i) {\n",
       "                    if (nbb_cells[i].input_prompt_number == nbb_cell_id) {\n",
       "                        if (nbb_cells[i].get_text() == nbb_unformatted_code) {\n",
       "                             nbb_cells[i].set_text(nbb_formatted_code);\n",
       "                        }\n",
       "                        break;\n",
       "                    }\n",
       "                }\n",
       "            }, 500);\n",
       "            "
      ],
      "text/plain": [
       "<IPython.core.display.Javascript object>"
      ]
     },
     "metadata": {},
     "output_type": "display_data"
    }
   ],
   "source": [
    "import numpy as np\n",
    "import tensorflow as tf\n",
    "import matplotlib.pyplot as plt\n",
    "\n",
    "# import seaborn as sns\n",
    "import os\n",
    "import pandas as pd\n",
    "from sklearn.model_selection import train_test_split\n",
    "from tensorflow.keras.preprocessing.image import ImageDataGenerator\n",
    "from tensorflow.keras.optimizers import Adam, SGD\n",
    "from sklearn.metrics import accuracy_score\n",
    "from tensorflow.keras.layers import Conv2D, MaxPooling2D, Flatten, Dense"
   ]
  },
  {
   "cell_type": "code",
   "execution_count": 4,
   "metadata": {},
   "outputs": [
    {
     "data": {
      "application/javascript": [
       "\n",
       "            setTimeout(function() {\n",
       "                var nbb_cell_id = 4;\n",
       "                var nbb_unformatted_code = \"train_dir = os.path.join(\\\"Input/train/\\\")\";\n",
       "                var nbb_formatted_code = \"train_dir = os.path.join(\\\"Input/train/\\\")\";\n",
       "                var nbb_cells = Jupyter.notebook.get_cells();\n",
       "                for (var i = 0; i < nbb_cells.length; ++i) {\n",
       "                    if (nbb_cells[i].input_prompt_number == nbb_cell_id) {\n",
       "                        if (nbb_cells[i].get_text() == nbb_unformatted_code) {\n",
       "                             nbb_cells[i].set_text(nbb_formatted_code);\n",
       "                        }\n",
       "                        break;\n",
       "                    }\n",
       "                }\n",
       "            }, 500);\n",
       "            "
      ],
      "text/plain": [
       "<IPython.core.display.Javascript object>"
      ]
     },
     "metadata": {},
     "output_type": "display_data"
    }
   ],
   "source": [
    "train_dir = os.path.join(\"Input/train/\")"
   ]
  },
  {
   "cell_type": "code",
   "execution_count": 5,
   "metadata": {},
   "outputs": [
    {
     "data": {
      "application/javascript": [
       "\n",
       "            setTimeout(function() {\n",
       "                var nbb_cell_id = 5;\n",
       "                var nbb_unformatted_code = \"df_train = pd.read_csv(\\\"data/train.csv\\\")\";\n",
       "                var nbb_formatted_code = \"df_train = pd.read_csv(\\\"data/train.csv\\\")\";\n",
       "                var nbb_cells = Jupyter.notebook.get_cells();\n",
       "                for (var i = 0; i < nbb_cells.length; ++i) {\n",
       "                    if (nbb_cells[i].input_prompt_number == nbb_cell_id) {\n",
       "                        if (nbb_cells[i].get_text() == nbb_unformatted_code) {\n",
       "                             nbb_cells[i].set_text(nbb_formatted_code);\n",
       "                        }\n",
       "                        break;\n",
       "                    }\n",
       "                }\n",
       "            }, 500);\n",
       "            "
      ],
      "text/plain": [
       "<IPython.core.display.Javascript object>"
      ]
     },
     "metadata": {},
     "output_type": "display_data"
    }
   ],
   "source": [
    "df_train = pd.read_csv(\"data/train.csv\")"
   ]
  },
  {
   "cell_type": "code",
   "execution_count": 6,
   "metadata": {},
   "outputs": [
    {
     "data": {
      "text/html": [
       "<div>\n",
       "<style scoped>\n",
       "    .dataframe tbody tr th:only-of-type {\n",
       "        vertical-align: middle;\n",
       "    }\n",
       "\n",
       "    .dataframe tbody tr th {\n",
       "        vertical-align: top;\n",
       "    }\n",
       "\n",
       "    .dataframe thead th {\n",
       "        text-align: right;\n",
       "    }\n",
       "</style>\n",
       "<table border=\"1\" class=\"dataframe\">\n",
       "  <thead>\n",
       "    <tr style=\"text-align: right;\">\n",
       "      <th></th>\n",
       "      <th>id</th>\n",
       "      <th>label</th>\n",
       "    </tr>\n",
       "  </thead>\n",
       "  <tbody>\n",
       "    <tr>\n",
       "      <th>0</th>\n",
       "      <td>0</td>\n",
       "      <td>24</td>\n",
       "    </tr>\n",
       "    <tr>\n",
       "      <th>1</th>\n",
       "      <td>1</td>\n",
       "      <td>2</td>\n",
       "    </tr>\n",
       "    <tr>\n",
       "      <th>2</th>\n",
       "      <td>2</td>\n",
       "      <td>17</td>\n",
       "    </tr>\n",
       "    <tr>\n",
       "      <th>3</th>\n",
       "      <td>3</td>\n",
       "      <td>14</td>\n",
       "    </tr>\n",
       "    <tr>\n",
       "      <th>4</th>\n",
       "      <td>4</td>\n",
       "      <td>19</td>\n",
       "    </tr>\n",
       "  </tbody>\n",
       "</table>\n",
       "</div>"
      ],
      "text/plain": [
       "   id  label\n",
       "0   0     24\n",
       "1   1      2\n",
       "2   2     17\n",
       "3   3     14\n",
       "4   4     19"
      ]
     },
     "execution_count": 6,
     "metadata": {},
     "output_type": "execute_result"
    },
    {
     "data": {
      "application/javascript": [
       "\n",
       "            setTimeout(function() {\n",
       "                var nbb_cell_id = 6;\n",
       "                var nbb_unformatted_code = \"df_train.head()\";\n",
       "                var nbb_formatted_code = \"df_train.head()\";\n",
       "                var nbb_cells = Jupyter.notebook.get_cells();\n",
       "                for (var i = 0; i < nbb_cells.length; ++i) {\n",
       "                    if (nbb_cells[i].input_prompt_number == nbb_cell_id) {\n",
       "                        if (nbb_cells[i].get_text() == nbb_unformatted_code) {\n",
       "                             nbb_cells[i].set_text(nbb_formatted_code);\n",
       "                        }\n",
       "                        break;\n",
       "                    }\n",
       "                }\n",
       "            }, 500);\n",
       "            "
      ],
      "text/plain": [
       "<IPython.core.display.Javascript object>"
      ]
     },
     "metadata": {},
     "output_type": "display_data"
    }
   ],
   "source": [
    "df_train.head()"
   ]
  },
  {
   "cell_type": "code",
   "execution_count": 7,
   "metadata": {},
   "outputs": [
    {
     "data": {
      "application/javascript": [
       "\n",
       "            setTimeout(function() {\n",
       "                var nbb_cell_id = 7;\n",
       "                var nbb_unformatted_code = \"df_train[\\\"id_full\\\"] = df_train.id.apply(lambda x: f\\\"{x:05.0f}.png\\\")\\ndf_train[\\\"label\\\"] = df_train[\\\"label\\\"].astype(str)\";\n",
       "                var nbb_formatted_code = \"df_train[\\\"id_full\\\"] = df_train.id.apply(lambda x: f\\\"{x:05.0f}.png\\\")\\ndf_train[\\\"label\\\"] = df_train[\\\"label\\\"].astype(str)\";\n",
       "                var nbb_cells = Jupyter.notebook.get_cells();\n",
       "                for (var i = 0; i < nbb_cells.length; ++i) {\n",
       "                    if (nbb_cells[i].input_prompt_number == nbb_cell_id) {\n",
       "                        if (nbb_cells[i].get_text() == nbb_unformatted_code) {\n",
       "                             nbb_cells[i].set_text(nbb_formatted_code);\n",
       "                        }\n",
       "                        break;\n",
       "                    }\n",
       "                }\n",
       "            }, 500);\n",
       "            "
      ],
      "text/plain": [
       "<IPython.core.display.Javascript object>"
      ]
     },
     "metadata": {},
     "output_type": "display_data"
    }
   ],
   "source": [
    "df_train[\"id_full\"] = df_train.id.apply(lambda x: f\"{x:05.0f}.png\")\n",
    "df_train[\"label\"] = df_train[\"label\"].astype(str)"
   ]
  },
  {
   "cell_type": "code",
   "execution_count": 8,
   "metadata": {},
   "outputs": [
    {
     "data": {
      "application/javascript": [
       "\n",
       "            setTimeout(function() {\n",
       "                var nbb_cell_id = 8;\n",
       "                var nbb_unformatted_code = \"df_train[\\\"label\\\"] = df_train[\\\"label\\\"].astype(str)\";\n",
       "                var nbb_formatted_code = \"df_train[\\\"label\\\"] = df_train[\\\"label\\\"].astype(str)\";\n",
       "                var nbb_cells = Jupyter.notebook.get_cells();\n",
       "                for (var i = 0; i < nbb_cells.length; ++i) {\n",
       "                    if (nbb_cells[i].input_prompt_number == nbb_cell_id) {\n",
       "                        if (nbb_cells[i].get_text() == nbb_unformatted_code) {\n",
       "                             nbb_cells[i].set_text(nbb_formatted_code);\n",
       "                        }\n",
       "                        break;\n",
       "                    }\n",
       "                }\n",
       "            }, 500);\n",
       "            "
      ],
      "text/plain": [
       "<IPython.core.display.Javascript object>"
      ]
     },
     "metadata": {},
     "output_type": "display_data"
    }
   ],
   "source": [
    "df_train[\"label\"] = df_train[\"label\"].astype(str)"
   ]
  },
  {
   "cell_type": "code",
   "execution_count": 9,
   "metadata": {},
   "outputs": [
    {
     "data": {
      "text/html": [
       "<div>\n",
       "<style scoped>\n",
       "    .dataframe tbody tr th:only-of-type {\n",
       "        vertical-align: middle;\n",
       "    }\n",
       "\n",
       "    .dataframe tbody tr th {\n",
       "        vertical-align: top;\n",
       "    }\n",
       "\n",
       "    .dataframe thead th {\n",
       "        text-align: right;\n",
       "    }\n",
       "</style>\n",
       "<table border=\"1\" class=\"dataframe\">\n",
       "  <thead>\n",
       "    <tr style=\"text-align: right;\">\n",
       "      <th></th>\n",
       "      <th>id</th>\n",
       "      <th>label</th>\n",
       "      <th>id_full</th>\n",
       "    </tr>\n",
       "  </thead>\n",
       "  <tbody>\n",
       "    <tr>\n",
       "      <th>0</th>\n",
       "      <td>0</td>\n",
       "      <td>24</td>\n",
       "      <td>00000.png</td>\n",
       "    </tr>\n",
       "    <tr>\n",
       "      <th>1</th>\n",
       "      <td>1</td>\n",
       "      <td>2</td>\n",
       "      <td>00001.png</td>\n",
       "    </tr>\n",
       "    <tr>\n",
       "      <th>2</th>\n",
       "      <td>2</td>\n",
       "      <td>17</td>\n",
       "      <td>00002.png</td>\n",
       "    </tr>\n",
       "    <tr>\n",
       "      <th>3</th>\n",
       "      <td>3</td>\n",
       "      <td>14</td>\n",
       "      <td>00003.png</td>\n",
       "    </tr>\n",
       "    <tr>\n",
       "      <th>4</th>\n",
       "      <td>4</td>\n",
       "      <td>19</td>\n",
       "      <td>00004.png</td>\n",
       "    </tr>\n",
       "  </tbody>\n",
       "</table>\n",
       "</div>"
      ],
      "text/plain": [
       "   id label    id_full\n",
       "0   0    24  00000.png\n",
       "1   1     2  00001.png\n",
       "2   2    17  00002.png\n",
       "3   3    14  00003.png\n",
       "4   4    19  00004.png"
      ]
     },
     "execution_count": 9,
     "metadata": {},
     "output_type": "execute_result"
    },
    {
     "data": {
      "application/javascript": [
       "\n",
       "            setTimeout(function() {\n",
       "                var nbb_cell_id = 9;\n",
       "                var nbb_unformatted_code = \"df_train.head()\";\n",
       "                var nbb_formatted_code = \"df_train.head()\";\n",
       "                var nbb_cells = Jupyter.notebook.get_cells();\n",
       "                for (var i = 0; i < nbb_cells.length; ++i) {\n",
       "                    if (nbb_cells[i].input_prompt_number == nbb_cell_id) {\n",
       "                        if (nbb_cells[i].get_text() == nbb_unformatted_code) {\n",
       "                             nbb_cells[i].set_text(nbb_formatted_code);\n",
       "                        }\n",
       "                        break;\n",
       "                    }\n",
       "                }\n",
       "            }, 500);\n",
       "            "
      ],
      "text/plain": [
       "<IPython.core.display.Javascript object>"
      ]
     },
     "metadata": {},
     "output_type": "display_data"
    }
   ],
   "source": [
    "df_train.head()"
   ]
  },
  {
   "cell_type": "code",
   "execution_count": 10,
   "metadata": {},
   "outputs": [
    {
     "data": {
      "text/plain": [
       "215040"
      ]
     },
     "execution_count": 10,
     "metadata": {},
     "output_type": "execute_result"
    },
    {
     "data": {
      "application/javascript": [
       "\n",
       "            setTimeout(function() {\n",
       "                var nbb_cell_id = 10;\n",
       "                var nbb_unformatted_code = \"df_train = (\\n    df_train.append(df_train)\\n    .append(df_train)\\n    .append(df_train)\\n    .append(df_train)\\n    .append(df_train)\\n    .append(df_train)\\n    .append(df_train)\\n    .append(df_train)\\n    .append(df_train)\\n    .append(df_train)\\n    .append(df_train)\\n    .append(df_train)\\n    .append(df_train)\\n    .append(df_train)\\n    .append(df_train)\\n)\\nlen(df_train)\";\n",
       "                var nbb_formatted_code = \"df_train = (\\n    df_train.append(df_train)\\n    .append(df_train)\\n    .append(df_train)\\n    .append(df_train)\\n    .append(df_train)\\n    .append(df_train)\\n    .append(df_train)\\n    .append(df_train)\\n    .append(df_train)\\n    .append(df_train)\\n    .append(df_train)\\n    .append(df_train)\\n    .append(df_train)\\n    .append(df_train)\\n    .append(df_train)\\n)\\nlen(df_train)\";\n",
       "                var nbb_cells = Jupyter.notebook.get_cells();\n",
       "                for (var i = 0; i < nbb_cells.length; ++i) {\n",
       "                    if (nbb_cells[i].input_prompt_number == nbb_cell_id) {\n",
       "                        if (nbb_cells[i].get_text() == nbb_unformatted_code) {\n",
       "                             nbb_cells[i].set_text(nbb_formatted_code);\n",
       "                        }\n",
       "                        break;\n",
       "                    }\n",
       "                }\n",
       "            }, 500);\n",
       "            "
      ],
      "text/plain": [
       "<IPython.core.display.Javascript object>"
      ]
     },
     "metadata": {},
     "output_type": "display_data"
    }
   ],
   "source": [
    "df_train = (\n",
    "    df_train.append(df_train)\n",
    "    .append(df_train)\n",
    "    .append(df_train)\n",
    "    .append(df_train)\n",
    "    .append(df_train)\n",
    "    .append(df_train)\n",
    "    .append(df_train)\n",
    "    .append(df_train)\n",
    "    .append(df_train)\n",
    "    .append(df_train)\n",
    "    .append(df_train)\n",
    "    .append(df_train)\n",
    "    .append(df_train)\n",
    "    .append(df_train)\n",
    "    .append(df_train)\n",
    ")\n",
    "len(df_train)"
   ]
  },
  {
   "cell_type": "code",
   "execution_count": 11,
   "metadata": {
    "code_folding": []
   },
   "outputs": [
    {
     "name": "stdout",
     "output_type": "stream",
     "text": [
      "Found 210739 validated image filenames belonging to 28 classes.\n",
      "Found 4301 validated image filenames belonging to 28 classes.\n"
     ]
    },
    {
     "data": {
      "application/javascript": [
       "\n",
       "            setTimeout(function() {\n",
       "                var nbb_cell_id = 11;\n",
       "                var nbb_unformatted_code = \"train_df, validate_df = train_test_split(df_train, test_size=0.02, random_state=42)\\n\\ntrain_datagen = ImageDataGenerator(\\n    rotation_range=5,\\n    rescale=1.0 / 255,\\n    zoom_range=0.1,\\n    shear_range=0.1,\\n    width_shift_range=0.05,\\n    height_shift_range=0.05,\\n)\\ntrain_generator = train_datagen.flow_from_dataframe(\\n    train_df,\\n    train_dir,\\n    x_col=\\\"id_full\\\",\\n    y_col=\\\"label\\\",\\n    target_size=(32, 32),\\n    class_mode=\\\"categorical\\\",\\n    batch_size=128,\\n)\\nvalid_datagen = ImageDataGenerator(rescale=1.0 / 255)\\nvalid_generator = valid_datagen.flow_from_dataframe(\\n    validate_df,\\n    train_dir,\\n    x_col=\\\"id_full\\\",\\n    y_col=\\\"label\\\",\\n    target_size=(32, 32),\\n    class_mode=\\\"categorical\\\",\\n    batch_size=len(validate_df),\\n)\";\n",
       "                var nbb_formatted_code = \"train_df, validate_df = train_test_split(df_train, test_size=0.02, random_state=42)\\n\\ntrain_datagen = ImageDataGenerator(\\n    rotation_range=5,\\n    rescale=1.0 / 255,\\n    zoom_range=0.1,\\n    shear_range=0.1,\\n    width_shift_range=0.05,\\n    height_shift_range=0.05,\\n)\\ntrain_generator = train_datagen.flow_from_dataframe(\\n    train_df,\\n    train_dir,\\n    x_col=\\\"id_full\\\",\\n    y_col=\\\"label\\\",\\n    target_size=(32, 32),\\n    class_mode=\\\"categorical\\\",\\n    batch_size=128,\\n)\\nvalid_datagen = ImageDataGenerator(rescale=1.0 / 255)\\nvalid_generator = valid_datagen.flow_from_dataframe(\\n    validate_df,\\n    train_dir,\\n    x_col=\\\"id_full\\\",\\n    y_col=\\\"label\\\",\\n    target_size=(32, 32),\\n    class_mode=\\\"categorical\\\",\\n    batch_size=len(validate_df),\\n)\";\n",
       "                var nbb_cells = Jupyter.notebook.get_cells();\n",
       "                for (var i = 0; i < nbb_cells.length; ++i) {\n",
       "                    if (nbb_cells[i].input_prompt_number == nbb_cell_id) {\n",
       "                        if (nbb_cells[i].get_text() == nbb_unformatted_code) {\n",
       "                             nbb_cells[i].set_text(nbb_formatted_code);\n",
       "                        }\n",
       "                        break;\n",
       "                    }\n",
       "                }\n",
       "            }, 500);\n",
       "            "
      ],
      "text/plain": [
       "<IPython.core.display.Javascript object>"
      ]
     },
     "metadata": {},
     "output_type": "display_data"
    }
   ],
   "source": [
    "train_df, validate_df = train_test_split(df_train, test_size=0.02, random_state=42)\n",
    "\n",
    "train_datagen = ImageDataGenerator(\n",
    "    rotation_range=5,\n",
    "    rescale=1.0 / 255,\n",
    "    zoom_range=0.1,\n",
    "    shear_range=0.1,\n",
    "    width_shift_range=0.05,\n",
    "    height_shift_range=0.05,\n",
    ")\n",
    "train_generator = train_datagen.flow_from_dataframe(\n",
    "    train_df,\n",
    "    train_dir,\n",
    "    x_col=\"id_full\",\n",
    "    y_col=\"label\",\n",
    "    target_size=(32, 32),\n",
    "    class_mode=\"categorical\",\n",
    "    batch_size=128,\n",
    ")\n",
    "valid_datagen = ImageDataGenerator(rescale=1.0 / 255)\n",
    "valid_generator = valid_datagen.flow_from_dataframe(\n",
    "    validate_df,\n",
    "    train_dir,\n",
    "    x_col=\"id_full\",\n",
    "    y_col=\"label\",\n",
    "    target_size=(32, 32),\n",
    "    class_mode=\"categorical\",\n",
    "    batch_size=len(validate_df),\n",
    ")"
   ]
  },
  {
   "cell_type": "markdown",
   "metadata": {},
   "source": [
    "# This code here is for checking the batch output after augmentation"
   ]
  },
  {
   "cell_type": "code",
   "execution_count": 12,
   "metadata": {
    "scrolled": true
   },
   "outputs": [
    {
     "data": {
      "application/javascript": [
       "\n",
       "            setTimeout(function() {\n",
       "                var nbb_cell_id = 12;\n",
       "                var nbb_unformatted_code = \"# for x, y in train_generator:\\n#     for i in x:\\n#         plt.imshow(i)\\n#         plt.show()\\n#         img = i * 255\\n#     break\\n\\n# img = img.reshape(-1, 32, 32, 3)\\n# print()\";\n",
       "                var nbb_formatted_code = \"# for x, y in train_generator:\\n#     for i in x:\\n#         plt.imshow(i)\\n#         plt.show()\\n#         img = i * 255\\n#     break\\n\\n# img = img.reshape(-1, 32, 32, 3)\\n# print()\";\n",
       "                var nbb_cells = Jupyter.notebook.get_cells();\n",
       "                for (var i = 0; i < nbb_cells.length; ++i) {\n",
       "                    if (nbb_cells[i].input_prompt_number == nbb_cell_id) {\n",
       "                        if (nbb_cells[i].get_text() == nbb_unformatted_code) {\n",
       "                             nbb_cells[i].set_text(nbb_formatted_code);\n",
       "                        }\n",
       "                        break;\n",
       "                    }\n",
       "                }\n",
       "            }, 500);\n",
       "            "
      ],
      "text/plain": [
       "<IPython.core.display.Javascript object>"
      ]
     },
     "metadata": {},
     "output_type": "display_data"
    }
   ],
   "source": [
    "# for x, y in train_generator:\n",
    "#     for i in x:\n",
    "#         plt.imshow(i)\n",
    "#         plt.show()\n",
    "#         img = i * 255\n",
    "#     break\n",
    "\n",
    "# img = img.reshape(-1, 32, 32, 3)\n",
    "# print()"
   ]
  },
  {
   "cell_type": "code",
   "execution_count": 13,
   "metadata": {
    "code_folding": []
   },
   "outputs": [
    {
     "data": {
      "application/javascript": [
       "\n",
       "            setTimeout(function() {\n",
       "                var nbb_cell_id = 13;\n",
       "                var nbb_unformatted_code = \"def define_model():\\n    model = tf.keras.models.Sequential(\\n        [\\n            # My Model 20 epock 97.2\\n            tf.keras.layers.Conv2D(\\n                filters=32,\\n                kernel_size=5,\\n                padding=\\\"same\\\",\\n                activation=\\\"relu\\\",\\n                input_shape=(32, 32, 3),\\n            ),\\n            tf.keras.layers.Conv2D(filters=64, kernel_size=5, activation=\\\"relu\\\"),\\n            tf.keras.layers.MaxPooling2D(pool_size=2),\\n            tf.keras.layers.Conv2D(filters=128, kernel_size=3, activation=\\\"relu\\\"),\\n            tf.keras.layers.Conv2D(filters=128, kernel_size=3, activation=\\\"relu\\\"),\\n            tf.keras.layers.MaxPooling2D(pool_size=2),\\n            tf.keras.layers.Conv2D(filters=256, kernel_size=3, activation=\\\"relu\\\"),\\n            tf.keras.layers.Conv2D(filters=256, kernel_size=3, activation=\\\"relu\\\"),\\n            tf.keras.layers.Flatten(),\\n            tf.keras.layers.Dense(128, activation=\\\"relu\\\"),\\n            tf.keras.layers.Dense(64, activation=\\\"relu\\\"),\\n            tf.keras.layers.Dense(32, activation=\\\"relu\\\"),\\n            tf.keras.layers.Dense(28, activation=\\\"softmax\\\"),\\n        ]\\n    )\\n\\n    opt = Adam()\\n    model.compile(optimizer=opt, loss=\\\"categorical_crossentropy\\\", metrics=[\\\"accuracy\\\"])\\n    return model\";\n",
       "                var nbb_formatted_code = \"def define_model():\\n    model = tf.keras.models.Sequential(\\n        [\\n            # My Model 20 epock 97.2\\n            tf.keras.layers.Conv2D(\\n                filters=32,\\n                kernel_size=5,\\n                padding=\\\"same\\\",\\n                activation=\\\"relu\\\",\\n                input_shape=(32, 32, 3),\\n            ),\\n            tf.keras.layers.Conv2D(filters=64, kernel_size=5, activation=\\\"relu\\\"),\\n            tf.keras.layers.MaxPooling2D(pool_size=2),\\n            tf.keras.layers.Conv2D(filters=128, kernel_size=3, activation=\\\"relu\\\"),\\n            tf.keras.layers.Conv2D(filters=128, kernel_size=3, activation=\\\"relu\\\"),\\n            tf.keras.layers.MaxPooling2D(pool_size=2),\\n            tf.keras.layers.Conv2D(filters=256, kernel_size=3, activation=\\\"relu\\\"),\\n            tf.keras.layers.Conv2D(filters=256, kernel_size=3, activation=\\\"relu\\\"),\\n            tf.keras.layers.Flatten(),\\n            tf.keras.layers.Dense(128, activation=\\\"relu\\\"),\\n            tf.keras.layers.Dense(64, activation=\\\"relu\\\"),\\n            tf.keras.layers.Dense(32, activation=\\\"relu\\\"),\\n            tf.keras.layers.Dense(28, activation=\\\"softmax\\\"),\\n        ]\\n    )\\n\\n    opt = Adam()\\n    model.compile(optimizer=opt, loss=\\\"categorical_crossentropy\\\", metrics=[\\\"accuracy\\\"])\\n    return model\";\n",
       "                var nbb_cells = Jupyter.notebook.get_cells();\n",
       "                for (var i = 0; i < nbb_cells.length; ++i) {\n",
       "                    if (nbb_cells[i].input_prompt_number == nbb_cell_id) {\n",
       "                        if (nbb_cells[i].get_text() == nbb_unformatted_code) {\n",
       "                             nbb_cells[i].set_text(nbb_formatted_code);\n",
       "                        }\n",
       "                        break;\n",
       "                    }\n",
       "                }\n",
       "            }, 500);\n",
       "            "
      ],
      "text/plain": [
       "<IPython.core.display.Javascript object>"
      ]
     },
     "metadata": {},
     "output_type": "display_data"
    }
   ],
   "source": [
    "def define_model():\n",
    "    model = tf.keras.models.Sequential(\n",
    "        [\n",
    "            # My Model 20 epock 97.2\n",
    "            tf.keras.layers.Conv2D(\n",
    "                filters=32,\n",
    "                kernel_size=5,\n",
    "                padding=\"same\",\n",
    "                activation=\"relu\",\n",
    "                input_shape=(32, 32, 3),\n",
    "            ),\n",
    "            tf.keras.layers.Conv2D(filters=64, kernel_size=5, activation=\"relu\"),\n",
    "            tf.keras.layers.MaxPooling2D(pool_size=2),\n",
    "            tf.keras.layers.Conv2D(filters=128, kernel_size=3, activation=\"relu\"),\n",
    "            tf.keras.layers.Conv2D(filters=128, kernel_size=3, activation=\"relu\"),\n",
    "            tf.keras.layers.MaxPooling2D(pool_size=2),\n",
    "            tf.keras.layers.Conv2D(filters=256, kernel_size=3, activation=\"relu\"),\n",
    "            tf.keras.layers.Conv2D(filters=256, kernel_size=3, activation=\"relu\"),\n",
    "            tf.keras.layers.Flatten(),\n",
    "            tf.keras.layers.Dense(128, activation=\"relu\"),\n",
    "            tf.keras.layers.Dense(64, activation=\"relu\"),\n",
    "            tf.keras.layers.Dense(32, activation=\"relu\"),\n",
    "            tf.keras.layers.Dense(28, activation=\"softmax\"),\n",
    "        ]\n",
    "    )\n",
    "\n",
    "    opt = Adam()\n",
    "    model.compile(optimizer=opt, loss=\"categorical_crossentropy\", metrics=[\"accuracy\"])\n",
    "    return model"
   ]
  },
  {
   "cell_type": "code",
   "execution_count": 14,
   "metadata": {},
   "outputs": [
    {
     "data": {
      "application/javascript": [
       "\n",
       "            setTimeout(function() {\n",
       "                var nbb_cell_id = 14;\n",
       "                var nbb_unformatted_code = \"model = define_model()\";\n",
       "                var nbb_formatted_code = \"model = define_model()\";\n",
       "                var nbb_cells = Jupyter.notebook.get_cells();\n",
       "                for (var i = 0; i < nbb_cells.length; ++i) {\n",
       "                    if (nbb_cells[i].input_prompt_number == nbb_cell_id) {\n",
       "                        if (nbb_cells[i].get_text() == nbb_unformatted_code) {\n",
       "                             nbb_cells[i].set_text(nbb_formatted_code);\n",
       "                        }\n",
       "                        break;\n",
       "                    }\n",
       "                }\n",
       "            }, 500);\n",
       "            "
      ],
      "text/plain": [
       "<IPython.core.display.Javascript object>"
      ]
     },
     "metadata": {},
     "output_type": "display_data"
    }
   ],
   "source": [
    "model = define_model()"
   ]
  },
  {
   "cell_type": "code",
   "execution_count": 15,
   "metadata": {
    "scrolled": true
   },
   "outputs": [
    {
     "name": "stdout",
     "output_type": "stream",
     "text": [
      "Model: \"sequential\"\n",
      "_________________________________________________________________\n",
      " Layer (type)                Output Shape              Param #   \n",
      "=================================================================\n",
      " conv2d (Conv2D)             (None, 32, 32, 32)        2432      \n",
      "                                                                 \n",
      " conv2d_1 (Conv2D)           (None, 28, 28, 64)        51264     \n",
      "                                                                 \n",
      " max_pooling2d (MaxPooling2D  (None, 14, 14, 64)       0         \n",
      " )                                                               \n",
      "                                                                 \n",
      " conv2d_2 (Conv2D)           (None, 12, 12, 128)       73856     \n",
      "                                                                 \n",
      " conv2d_3 (Conv2D)           (None, 10, 10, 128)       147584    \n",
      "                                                                 \n",
      " max_pooling2d_1 (MaxPooling  (None, 5, 5, 128)        0         \n",
      " 2D)                                                             \n",
      "                                                                 \n",
      " conv2d_4 (Conv2D)           (None, 3, 3, 256)         295168    \n",
      "                                                                 \n",
      " conv2d_5 (Conv2D)           (None, 1, 1, 256)         590080    \n",
      "                                                                 \n",
      " flatten (Flatten)           (None, 256)               0         \n",
      "                                                                 \n",
      " dense (Dense)               (None, 128)               32896     \n",
      "                                                                 \n",
      " dense_1 (Dense)             (None, 64)                8256      \n",
      "                                                                 \n",
      " dense_2 (Dense)             (None, 32)                2080      \n",
      "                                                                 \n",
      " dense_3 (Dense)             (None, 28)                924       \n",
      "                                                                 \n",
      "=================================================================\n",
      "Total params: 1,204,540\n",
      "Trainable params: 1,204,540\n",
      "Non-trainable params: 0\n",
      "_________________________________________________________________\n"
     ]
    },
    {
     "data": {
      "application/javascript": [
       "\n",
       "            setTimeout(function() {\n",
       "                var nbb_cell_id = 15;\n",
       "                var nbb_unformatted_code = \"model.summary()\";\n",
       "                var nbb_formatted_code = \"model.summary()\";\n",
       "                var nbb_cells = Jupyter.notebook.get_cells();\n",
       "                for (var i = 0; i < nbb_cells.length; ++i) {\n",
       "                    if (nbb_cells[i].input_prompt_number == nbb_cell_id) {\n",
       "                        if (nbb_cells[i].get_text() == nbb_unformatted_code) {\n",
       "                             nbb_cells[i].set_text(nbb_formatted_code);\n",
       "                        }\n",
       "                        break;\n",
       "                    }\n",
       "                }\n",
       "            }, 500);\n",
       "            "
      ],
      "text/plain": [
       "<IPython.core.display.Javascript object>"
      ]
     },
     "metadata": {},
     "output_type": "display_data"
    }
   ],
   "source": [
    "model.summary()"
   ]
  },
  {
   "cell_type": "code",
   "execution_count": 16,
   "metadata": {},
   "outputs": [
    {
     "data": {
      "application/javascript": [
       "\n",
       "            setTimeout(function() {\n",
       "                var nbb_cell_id = 16;\n",
       "                var nbb_unformatted_code = \"early_stopp = tf.keras.callbacks.EarlyStopping(patience=10, restore_best_weights=True)\";\n",
       "                var nbb_formatted_code = \"early_stopp = tf.keras.callbacks.EarlyStopping(patience=10, restore_best_weights=True)\";\n",
       "                var nbb_cells = Jupyter.notebook.get_cells();\n",
       "                for (var i = 0; i < nbb_cells.length; ++i) {\n",
       "                    if (nbb_cells[i].input_prompt_number == nbb_cell_id) {\n",
       "                        if (nbb_cells[i].get_text() == nbb_unformatted_code) {\n",
       "                             nbb_cells[i].set_text(nbb_formatted_code);\n",
       "                        }\n",
       "                        break;\n",
       "                    }\n",
       "                }\n",
       "            }, 500);\n",
       "            "
      ],
      "text/plain": [
       "<IPython.core.display.Javascript object>"
      ]
     },
     "metadata": {},
     "output_type": "display_data"
    }
   ],
   "source": [
    "early_stopp = tf.keras.callbacks.EarlyStopping(patience=10, restore_best_weights=True)"
   ]
  },
  {
   "cell_type": "code",
   "execution_count": 17,
   "metadata": {
    "scrolled": true
   },
   "outputs": [
    {
     "name": "stdout",
     "output_type": "stream",
     "text": [
      "Epoch 1/50\n",
      "1647/1647 [==============================] - 147s 88ms/step - loss: 0.5672 - accuracy: 0.8151 - val_loss: 0.0794 - val_accuracy: 0.9726\n",
      "Epoch 2/50\n",
      "1647/1647 [==============================] - 143s 87ms/step - loss: 0.1037 - accuracy: 0.9665 - val_loss: 0.0605 - val_accuracy: 0.9805\n",
      "Epoch 3/50\n",
      "1647/1647 [==============================] - 143s 87ms/step - loss: 0.0623 - accuracy: 0.9799 - val_loss: 0.0184 - val_accuracy: 0.9949\n",
      "Epoch 4/50\n",
      "1647/1647 [==============================] - 145s 88ms/step - loss: 0.0467 - accuracy: 0.9853 - val_loss: 0.0153 - val_accuracy: 0.9947\n",
      "Epoch 5/50\n",
      "1647/1647 [==============================] - 146s 89ms/step - loss: 0.0357 - accuracy: 0.9890 - val_loss: 0.0162 - val_accuracy: 0.9942\n",
      "Epoch 6/50\n",
      "1647/1647 [==============================] - 147s 89ms/step - loss: 0.0295 - accuracy: 0.9910 - val_loss: 0.0129 - val_accuracy: 0.9963\n",
      "Epoch 7/50\n",
      "1647/1647 [==============================] - 144s 88ms/step - loss: 0.0277 - accuracy: 0.9918 - val_loss: 0.0060 - val_accuracy: 0.9977\n",
      "Epoch 8/50\n",
      "1647/1647 [==============================] - 148s 90ms/step - loss: 0.0226 - accuracy: 0.9931 - val_loss: 0.0065 - val_accuracy: 0.9977\n",
      "Epoch 9/50\n",
      "1647/1647 [==============================] - 151s 92ms/step - loss: 0.0209 - accuracy: 0.9939 - val_loss: 0.0252 - val_accuracy: 0.9942\n",
      "Epoch 10/50\n",
      "1647/1647 [==============================] - 142s 86ms/step - loss: 0.0190 - accuracy: 0.9945 - val_loss: 0.0016 - val_accuracy: 0.9995\n",
      "Epoch 11/50\n",
      "1647/1647 [==============================] - 145s 88ms/step - loss: 0.0165 - accuracy: 0.9952 - val_loss: 0.0140 - val_accuracy: 0.9951\n",
      "Epoch 12/50\n",
      "1647/1647 [==============================] - 152s 92ms/step - loss: 0.0172 - accuracy: 0.9951 - val_loss: 0.0070 - val_accuracy: 0.9984\n",
      "Epoch 13/50\n",
      "1647/1647 [==============================] - 147s 89ms/step - loss: 0.0142 - accuracy: 0.9962 - val_loss: 0.0038 - val_accuracy: 0.9986\n",
      "Epoch 14/50\n",
      "1647/1647 [==============================] - 146s 89ms/step - loss: 0.0157 - accuracy: 0.9957 - val_loss: 0.0047 - val_accuracy: 0.9986\n",
      "Epoch 15/50\n",
      "1647/1647 [==============================] - 149s 90ms/step - loss: 0.0137 - accuracy: 0.9965 - val_loss: 9.4220e-04 - val_accuracy: 0.9995\n",
      "Epoch 16/50\n",
      "1647/1647 [==============================] - 152s 92ms/step - loss: 0.0125 - accuracy: 0.9967 - val_loss: 0.0137 - val_accuracy: 0.9981\n",
      "Epoch 17/50\n",
      "1647/1647 [==============================] - 148s 90ms/step - loss: 0.0142 - accuracy: 0.9963 - val_loss: 0.0014 - val_accuracy: 0.9995\n",
      "Epoch 18/50\n",
      "1647/1647 [==============================] - 160s 97ms/step - loss: 0.0102 - accuracy: 0.9974 - val_loss: 0.0016 - val_accuracy: 0.9995\n",
      "Epoch 19/50\n",
      "1647/1647 [==============================] - 155s 94ms/step - loss: 0.0129 - accuracy: 0.9966 - val_loss: 3.0845e-04 - val_accuracy: 1.0000\n",
      "Epoch 20/50\n",
      "1647/1647 [==============================] - 148s 90ms/step - loss: 0.0126 - accuracy: 0.9968 - val_loss: 0.0175 - val_accuracy: 0.9970\n",
      "Epoch 21/50\n",
      "1647/1647 [==============================] - 149s 90ms/step - loss: 0.0108 - accuracy: 0.9972 - val_loss: 0.0016 - val_accuracy: 0.9995\n",
      "Epoch 22/50\n",
      "1647/1647 [==============================] - 145s 88ms/step - loss: 0.0105 - accuracy: 0.9974 - val_loss: 0.0087 - val_accuracy: 0.9974\n",
      "Epoch 23/50\n",
      "1647/1647 [==============================] - 146s 89ms/step - loss: 0.0126 - accuracy: 0.9970 - val_loss: 0.0015 - val_accuracy: 0.9995\n",
      "Epoch 24/50\n",
      "1647/1647 [==============================] - 143s 87ms/step - loss: 0.0097 - accuracy: 0.9976 - val_loss: 0.0090 - val_accuracy: 0.9986\n",
      "Epoch 25/50\n",
      "1647/1647 [==============================] - 144s 87ms/step - loss: 0.0115 - accuracy: 0.9974 - val_loss: 0.0065 - val_accuracy: 0.9974\n",
      "Epoch 26/50\n",
      "1647/1647 [==============================] - 143s 87ms/step - loss: 0.0118 - accuracy: 0.9974 - val_loss: 5.8764e-04 - val_accuracy: 1.0000\n",
      "Epoch 27/50\n",
      "1647/1647 [==============================] - 141s 86ms/step - loss: 0.0110 - accuracy: 0.9975 - val_loss: 1.9862e-04 - val_accuracy: 1.0000\n",
      "Epoch 28/50\n",
      "1647/1647 [==============================] - 142s 86ms/step - loss: 0.0107 - accuracy: 0.9976 - val_loss: 0.0012 - val_accuracy: 0.9995\n",
      "Epoch 29/50\n",
      "1647/1647 [==============================] - 149s 91ms/step - loss: 0.0113 - accuracy: 0.9975 - val_loss: 0.0023 - val_accuracy: 0.9993\n",
      "Epoch 30/50\n",
      "1647/1647 [==============================] - 150s 91ms/step - loss: 0.0130 - accuracy: 0.9971 - val_loss: 0.0017 - val_accuracy: 0.9995\n",
      "Epoch 31/50\n",
      "1647/1647 [==============================] - 147s 89ms/step - loss: 0.0086 - accuracy: 0.9981 - val_loss: 0.0032 - val_accuracy: 0.9995\n",
      "Epoch 32/50\n",
      "1647/1647 [==============================] - 149s 90ms/step - loss: 0.0104 - accuracy: 0.9978 - val_loss: 6.3875e-04 - val_accuracy: 0.9998\n",
      "Epoch 33/50\n",
      "1647/1647 [==============================] - 151s 92ms/step - loss: 0.0108 - accuracy: 0.9978 - val_loss: 7.8162e-04 - val_accuracy: 0.9995\n",
      "Epoch 34/50\n",
      "1647/1647 [==============================] - 147s 89ms/step - loss: 0.0112 - accuracy: 0.9977 - val_loss: 0.0053 - val_accuracy: 0.9988\n",
      "Epoch 35/50\n",
      "1647/1647 [==============================] - 144s 87ms/step - loss: 0.0089 - accuracy: 0.9980 - val_loss: 2.2566e-05 - val_accuracy: 1.0000\n",
      "Epoch 36/50\n",
      "1647/1647 [==============================] - 147s 89ms/step - loss: 0.0114 - accuracy: 0.9978 - val_loss: 0.0017 - val_accuracy: 0.9995\n",
      "Epoch 37/50\n",
      "1647/1647 [==============================] - 140s 85ms/step - loss: 0.0171 - accuracy: 0.9967 - val_loss: 0.0061 - val_accuracy: 0.9981\n",
      "Epoch 38/50\n",
      "1647/1647 [==============================] - 146s 89ms/step - loss: 0.0114 - accuracy: 0.9978 - val_loss: 6.1673e-04 - val_accuracy: 0.9998\n",
      "Epoch 39/50\n",
      "1647/1647 [==============================] - 149s 91ms/step - loss: 0.0111 - accuracy: 0.9978 - val_loss: 1.9789e-04 - val_accuracy: 1.0000\n",
      "Epoch 40/50\n",
      "1647/1647 [==============================] - 142s 86ms/step - loss: 0.0081 - accuracy: 0.9984 - val_loss: 7.7977e-05 - val_accuracy: 1.0000\n",
      "Epoch 41/50\n",
      "1647/1647 [==============================] - 145s 88ms/step - loss: 0.0128 - accuracy: 0.9975 - val_loss: 3.1609e-04 - val_accuracy: 0.9998\n",
      "Epoch 42/50\n",
      "1647/1647 [==============================] - 145s 88ms/step - loss: 0.0080 - accuracy: 0.9985 - val_loss: 3.8331e-04 - val_accuracy: 0.9998\n",
      "Epoch 43/50\n",
      "1647/1647 [==============================] - 142s 86ms/step - loss: 0.0144 - accuracy: 0.9974 - val_loss: 0.0037 - val_accuracy: 0.9993\n",
      "Epoch 44/50\n",
      "1647/1647 [==============================] - 146s 89ms/step - loss: 0.0070 - accuracy: 0.9986 - val_loss: 0.0033 - val_accuracy: 0.9981\n",
      "Epoch 45/50\n",
      "1647/1647 [==============================] - 153s 93ms/step - loss: 0.0144 - accuracy: 0.9972 - val_loss: 0.0013 - val_accuracy: 0.9995\n"
     ]
    },
    {
     "data": {
      "application/javascript": [
       "\n",
       "            setTimeout(function() {\n",
       "                var nbb_cell_id = 17;\n",
       "                var nbb_unformatted_code = \"history = model.fit(\\n    train_generator,\\n    validation_data=valid_generator,\\n    epochs=50,\\n    callbacks=[early_stopp],\\n)\";\n",
       "                var nbb_formatted_code = \"history = model.fit(\\n    train_generator,\\n    validation_data=valid_generator,\\n    epochs=50,\\n    callbacks=[early_stopp],\\n)\";\n",
       "                var nbb_cells = Jupyter.notebook.get_cells();\n",
       "                for (var i = 0; i < nbb_cells.length; ++i) {\n",
       "                    if (nbb_cells[i].input_prompt_number == nbb_cell_id) {\n",
       "                        if (nbb_cells[i].get_text() == nbb_unformatted_code) {\n",
       "                             nbb_cells[i].set_text(nbb_formatted_code);\n",
       "                        }\n",
       "                        break;\n",
       "                    }\n",
       "                }\n",
       "            }, 500);\n",
       "            "
      ],
      "text/plain": [
       "<IPython.core.display.Javascript object>"
      ]
     },
     "metadata": {},
     "output_type": "display_data"
    }
   ],
   "source": [
    "history = model.fit(\n",
    "    train_generator,\n",
    "    validation_data=valid_generator,\n",
    "    epochs=50,\n",
    "    callbacks=[early_stopp],\n",
    ")"
   ]
  },
  {
   "cell_type": "code",
   "execution_count": 22,
   "metadata": {},
   "outputs": [
    {
     "data": {
      "text/plain": [
       "<AxesSubplot:>"
      ]
     },
     "execution_count": 22,
     "metadata": {},
     "output_type": "execute_result"
    },
    {
     "data": {
      "image/png": "[encoded data removed]",
      "text/plain": [
       "<Figure size 720x432 with 1 Axes>"
      ]
     },
     "metadata": {
      "needs_background": "light"
     },
     "output_type": "display_data"
    },
    {
     "data": {
      "application/javascript": [
       "\n",
       "            setTimeout(function() {\n",
       "                var nbb_cell_id = 22;\n",
       "                var nbb_unformatted_code = \"pd.DataFrame(history.history)[[\\\"accuracy\\\", \\\"val_accuracy\\\"]].plot(figsize=(10, 6))\";\n",
       "                var nbb_formatted_code = \"pd.DataFrame(history.history)[[\\\"accuracy\\\", \\\"val_accuracy\\\"]].plot(figsize=(10, 6))\";\n",
       "                var nbb_cells = Jupyter.notebook.get_cells();\n",
       "                for (var i = 0; i < nbb_cells.length; ++i) {\n",
       "                    if (nbb_cells[i].input_prompt_number == nbb_cell_id) {\n",
       "                        if (nbb_cells[i].get_text() == nbb_unformatted_code) {\n",
       "                             nbb_cells[i].set_text(nbb_formatted_code);\n",
       "                        }\n",
       "                        break;\n",
       "                    }\n",
       "                }\n",
       "            }, 500);\n",
       "            "
      ],
      "text/plain": [
       "<IPython.core.display.Javascript object>"
      ]
     },
     "metadata": {},
     "output_type": "display_data"
    }
   ],
   "source": [
    "pd.DataFrame(history.history)[[\"accuracy\", \"val_accuracy\"]].plot(figsize=(10, 6))"
   ]
  },
  {
   "cell_type": "code",
   "execution_count": 23,
   "metadata": {},
   "outputs": [
    {
     "data": {
      "text/plain": [
       "<AxesSubplot:>"
      ]
     },
     "execution_count": 23,
     "metadata": {},
     "output_type": "execute_result"
    },
    {
     "data": {
      "image/png": "[encoded data removed]",
      "text/plain": [
       "<Figure size 720x432 with 1 Axes>"
      ]
     },
     "metadata": {
      "needs_background": "light"
     },
     "output_type": "display_data"
    },
    {
     "data": {
      "application/javascript": [
       "\n",
       "            setTimeout(function() {\n",
       "                var nbb_cell_id = 23;\n",
       "                var nbb_unformatted_code = \"pd.DataFrame(history.history)[[\\\"loss\\\", \\\"val_loss\\\"]].plot(figsize=(10, 6))\";\n",
       "                var nbb_formatted_code = \"pd.DataFrame(history.history)[[\\\"loss\\\", \\\"val_loss\\\"]].plot(figsize=(10, 6))\";\n",
       "                var nbb_cells = Jupyter.notebook.get_cells();\n",
       "                for (var i = 0; i < nbb_cells.length; ++i) {\n",
       "                    if (nbb_cells[i].input_prompt_number == nbb_cell_id) {\n",
       "                        if (nbb_cells[i].get_text() == nbb_unformatted_code) {\n",
       "                             nbb_cells[i].set_text(nbb_formatted_code);\n",
       "                        }\n",
       "                        break;\n",
       "                    }\n",
       "                }\n",
       "            }, 500);\n",
       "            "
      ],
      "text/plain": [
       "<IPython.core.display.Javascript object>"
      ]
     },
     "metadata": {},
     "output_type": "display_data"
    }
   ],
   "source": [
    "pd.DataFrame(history.history)[[\"loss\", \"val_loss\"]].plot(figsize=(10, 6))"
   ]
  },
  {
   "cell_type": "code",
   "execution_count": 24,
   "metadata": {},
   "outputs": [
    {
     "name": "stdout",
     "output_type": "stream",
     "text": [
      "Found 3360 images belonging to 1 classes.\n"
     ]
    },
    {
     "data": {
      "application/javascript": [
       "\n",
       "            setTimeout(function() {\n",
       "                var nbb_cell_id = 24;\n",
       "                var nbb_unformatted_code = \"df_test = pd.read_csv(\\\"data/test.csv\\\")\\ntest_dir = os.path.join(\\\"Input/test/\\\")\\n\\ntest_datagen = ImageDataGenerator(rescale=1.0 / 255)\\ntest_generator = test_datagen.flow_from_directory(\\n    test_dir, target_size=(32, 32), shuffle=False\\n)\\n\\ny_preds_classes = np.argmax(model.predict(test_generator), axis=-1)\\ny_preds_classes\\n\\nkeys = list(map(int, train_generator.class_indices.keys()))\\nvals = list(map(int, train_generator.class_indices.values()))\\n\\n# creating a dict\\ndict_vals = dict()\\nfor i in range(len(keys)):\\n    dict_vals[vals[i]] = keys[i]\\n\\ny_preds_classes = list(y_preds_classes)\\ny_preds_classes = list(map(lambda x: dict_vals[x], y_preds_classes))\\ndf_test[\\\"label\\\"] = y_preds_classes\\ndf_test[\\\"id\\\"] = df_test.id.apply(lambda x: f\\\"{x:05.0f}\\\").astype(str)\";\n",
       "                var nbb_formatted_code = \"df_test = pd.read_csv(\\\"data/test.csv\\\")\\ntest_dir = os.path.join(\\\"Input/test/\\\")\\n\\ntest_datagen = ImageDataGenerator(rescale=1.0 / 255)\\ntest_generator = test_datagen.flow_from_directory(\\n    test_dir, target_size=(32, 32), shuffle=False\\n)\\n\\ny_preds_classes = np.argmax(model.predict(test_generator), axis=-1)\\ny_preds_classes\\n\\nkeys = list(map(int, train_generator.class_indices.keys()))\\nvals = list(map(int, train_generator.class_indices.values()))\\n\\n# creating a dict\\ndict_vals = dict()\\nfor i in range(len(keys)):\\n    dict_vals[vals[i]] = keys[i]\\n\\ny_preds_classes = list(y_preds_classes)\\ny_preds_classes = list(map(lambda x: dict_vals[x], y_preds_classes))\\ndf_test[\\\"label\\\"] = y_preds_classes\\ndf_test[\\\"id\\\"] = df_test.id.apply(lambda x: f\\\"{x:05.0f}\\\").astype(str)\";\n",
       "                var nbb_cells = Jupyter.notebook.get_cells();\n",
       "                for (var i = 0; i < nbb_cells.length; ++i) {\n",
       "                    if (nbb_cells[i].input_prompt_number == nbb_cell_id) {\n",
       "                        if (nbb_cells[i].get_text() == nbb_unformatted_code) {\n",
       "                             nbb_cells[i].set_text(nbb_formatted_code);\n",
       "                        }\n",
       "                        break;\n",
       "                    }\n",
       "                }\n",
       "            }, 500);\n",
       "            "
      ],
      "text/plain": [
       "<IPython.core.display.Javascript object>"
      ]
     },
     "metadata": {},
     "output_type": "display_data"
    }
   ],
   "source": [
    "df_test = pd.read_csv(\"data/test.csv\")\n",
    "test_dir = os.path.join(\"Input/test/\")\n",
    "\n",
    "test_datagen = ImageDataGenerator(rescale=1.0 / 255)\n",
    "test_generator = test_datagen.flow_from_directory(\n",
    "    test_dir, target_size=(32, 32), shuffle=False\n",
    ")\n",
    "\n",
    "y_preds_classes = np.argmax(model.predict(test_generator), axis=-1)\n",
    "y_preds_classes\n",
    "\n",
    "keys = list(map(int, train_generator.class_indices.keys()))\n",
    "vals = list(map(int, train_generator.class_indices.values()))\n",
    "\n",
    "# creating a dict\n",
    "dict_vals = dict()\n",
    "for i in range(len(keys)):\n",
    "    dict_vals[vals[i]] = keys[i]\n",
    "\n",
    "y_preds_classes = list(y_preds_classes)\n",
    "y_preds_classes = list(map(lambda x: dict_vals[x], y_preds_classes))\n",
    "df_test[\"label\"] = y_preds_classes\n",
    "df_test[\"id\"] = df_test.id.apply(lambda x: f\"{x:05.0f}\").astype(str)\n"
   ]
  },
  {
   "cell_type": "code",
   "execution_count": 25,
   "metadata": {},
   "outputs": [
    {
     "data": {
      "application/javascript": [
       "\n",
       "            setTimeout(function() {\n",
       "                var nbb_cell_id = 25;\n",
       "                var nbb_unformatted_code = \"df_test = df_test[[\\\"id\\\", \\\"label\\\"]]\\ndf_test.set_index(\\\"id\\\").to_csv(\\\"sub1.csv\\\")\";\n",
       "                var nbb_formatted_code = \"df_test = df_test[[\\\"id\\\", \\\"label\\\"]]\\ndf_test.set_index(\\\"id\\\").to_csv(\\\"sub1.csv\\\")\";\n",
       "                var nbb_cells = Jupyter.notebook.get_cells();\n",
       "                for (var i = 0; i < nbb_cells.length; ++i) {\n",
       "                    if (nbb_cells[i].input_prompt_number == nbb_cell_id) {\n",
       "                        if (nbb_cells[i].get_text() == nbb_unformatted_code) {\n",
       "                             nbb_cells[i].set_text(nbb_formatted_code);\n",
       "                        }\n",
       "                        break;\n",
       "                    }\n",
       "                }\n",
       "            }, 500);\n",
       "            "
      ],
      "text/plain": [
       "<IPython.core.display.Javascript object>"
      ]
     },
     "metadata": {},
     "output_type": "display_data"
    }
   ],
   "source": [
    "df_test = df_test[[\"id\", \"label\"]]\n",
    "df_test.set_index(\"id\").to_csv(\"sub1.csv\")"
   ]
  },
  {
   "cell_type": "code",
   "execution_count": null,
   "metadata": {},
   "outputs": [],
   "source": []
  },
  {
   "cell_type": "code",
   "execution_count": null,
   "metadata": {},
   "outputs": [],
   "source": []
  }
 ],
 "metadata": {
  "kernelspec": {
   "display_name": "Python 3 (ipykernel)",
   "language": "python",
   "name": "python3"
  },
  "language_info": {
   "codemirror_mode": {
    "name": "ipython",
    "version": 3
   },
   "file_extension": ".py",
   "mimetype": "text/x-python",
   "name": "python",
   "nbconvert_exporter": "python",
   "pygments_lexer": "ipython3",
   "version": "3.9.7"
  }
 },
 "nbformat": 4,
 "nbformat_minor": 4
}
