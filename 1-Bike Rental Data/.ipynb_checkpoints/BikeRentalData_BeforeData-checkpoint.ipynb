{
 "cells": [
  {
   "cell_type": "code",
   "execution_count": 1,
   "metadata": {},
   "outputs": [],
   "source": [
    "# Regression Example With Boston Dataset: Standardized and Wider\n",
    "import numpy as np\n",
    "import pandas as pd\n",
    "import matplotlib.pyplot as plt\n",
    "import seaborn as sns\n",
    "sns.set_style(\"dark\")\n",
    "sns.set()\n",
    "import warnings\n",
    "warnings.filterwarnings('ignore')\n",
    "from sklearn.preprocessing import LabelEncoder\n",
    "from sklearn.model_selection import cross_val_score\n",
    "from sklearn.model_selection import train_test_split\n",
    "from sklearn import datasets, ensemble\n",
    "from sklearn.metrics import mean_squared_error\n",
    "from sklearn.inspection import permutation_importance\n",
    "from sklearn.preprocessing import MinMaxScaler\n",
    "from sklearn.preprocessing import StandardScaler\n",
    "from sklearn.ensemble import RandomForestRegressor\n",
    "import sklearn\n",
    "import xgboost as xgb"
   ]
  },
  {
   "cell_type": "code",
   "execution_count": 2,
   "metadata": {},
   "outputs": [],
   "source": [
    "df_data = pd.read_csv(f\"Data/train.csv\", parse_dates=[1], dayfirst=True)"
   ]
  },
  {
   "cell_type": "code",
   "execution_count": 3,
   "metadata": {},
   "outputs": [],
   "source": [
    "df_data = df_data.rename(columns={'Temperature(�C)': 'Temperature',\n",
    "                                  'Humidity(%)':'Humidity',\n",
    "                                  'Wind speed (m/s)':'Wind speed',\n",
    "                                  'Visibility (10m)':'Visibility',\n",
    "                                  'Dew point temperature(�C)':'Dew point temperature',\n",
    "                                  'Solar Radiation (MJ/m2)':'Solar Radiation',\n",
    "                                  'Rainfall(mm)':'Rainfall',\n",
    "                                  'Snowfall (cm)':'Snowfall'})"
   ]
  },
  {
   "cell_type": "code",
   "execution_count": 4,
   "metadata": {},
   "outputs": [],
   "source": [
    "def encode_columns(df_data):\n",
    "    df_data.Date = pd.to_datetime(df_data.Date)\n",
    "    months = df_data.Date.dt.month\n",
    "    days = df_data.Date.dt.day\n",
    "    years = df_data.Date.dt.year\n",
    "    df_data[\"months\"] = months\n",
    "    df_data[\"days\"] = days\n",
    "    df_data[\"years\"] = years\n",
    "    \n",
    "    \n",
    "    # Day of week \n",
    "    df_data['day_of_week'] = df_data['Date'].dt.day_name()\n",
    "        \n",
    "    # walid   ------- >>>>>>>>>>  time column\n",
    "    df_data['time'] = pd.to_datetime(df_data[['years', 'months', 'days', 'Hour']])\n",
    "    \n",
    "    ############################################################################\n",
    "    \n",
    "    # there is only two values\n",
    "    df_data[\"Holiday\"] = df_data[\"Holiday\"].replace({'No Holiday': 1 , 'Holiday': 0})\n",
    "    \n",
    "    ############################################################################\n",
    "    df_data[\"Functioning Day\"] = df_data[\"Functioning Day\"].replace({'Yes': 1, 'No': 0})\n",
    "    \n",
    "    ############################################################################\n",
    "    \n",
    "    df_data[\"Seasons_Original\"] = df_data[\"Seasons\"] \n",
    "    df_data[\"Seasons\"] = df_data[\"Seasons\"].replace({'Winter': 1, 'Spring': 2,\"Summer\": 3, \"Autumn\": 4})\n",
    "    \n",
    "    \n",
    "    \n",
    "    df_data['day_of_week'] = df_data['day_of_week'].apply(\\\n",
    "        lambda x: (['Friday', 'Saturday', 'Sunday', 'Monday', 'Tuesday', 'Wednesday', 'Thursday'].index(x)))\n",
    "\n",
    "    df_data[\"Rush_Hour\"] = df_data[\"Hour\"].apply(lambda x : 0 if x == 2 or x == 3 or x == 4 or x == 5 or x == 6  else 1 )\n",
    "    \n",
    "    \n",
    "    \n",
    "    df_full_range = df_data\n",
    "    df_full_range = df_full_range.set_index('time')\n",
    "    timestamp_s = df_full_range.index.map(pd.Timestamp.timestamp)\n",
    "    hour = 60*60\n",
    "    day = 24*60*60\n",
    "    week = 7 * day\n",
    "    month = 30 * day\n",
    "    year = (365.2425)*day\n",
    "    seas = 4 * 30 * day\n",
    "    df_data['Hour sin'] = np.sin(timestamp_s * (2 * np.pi / hour))\n",
    "    df_data['Hour cos'] = np.cos(timestamp_s * (2 * np.pi / hour))\n",
    "    df_data['Day sin'] = np.sin(timestamp_s * (2 * np.pi / day))\n",
    "    df_data['Day cos'] = np.cos(timestamp_s * (2 * np.pi / day))\n",
    "    df_data['week sin'] = np.sin(timestamp_s * (2 * np.pi / week))\n",
    "    df_data['week cos'] = np.cos(timestamp_s * (2 * np.pi / week))\n",
    "    df_data['Year sin'] = np.sin(timestamp_s * (2 * np.pi / year))\n",
    "    df_data['Year cos'] = np.cos(timestamp_s * (2 * np.pi / year))\n",
    "    df_data['Seas sin'] = np.sin(timestamp_s * (2 * np.pi / seas))\n",
    "    df_data['Seas cos'] = np.cos(timestamp_s * (2 * np.pi / seas))\n",
    "    df_data['Month sin'] = np.sin(timestamp_s * (2 * np.pi / month))\n",
    "    df_data['Month cos'] = np.cos(timestamp_s * (2 * np.pi / month))\n",
    "    \n",
    "    \n",
    "    a=3\n",
    "    b=5\n",
    "    c=6\n",
    "    df_data['Rainfall_MA'] = df_data['Rainfall'].rolling(window=a, min_periods=1).mean()\n",
    "    df_data['Snowfall_MA'] = df_data['Snowfall'].rolling(window=b, min_periods=1).mean()\n",
    "    df_data['Wind speed_MA'] = df_data['Wind speed'].rolling(window=c, min_periods=1).mean()\n",
    "\n",
    "    \n",
    "    # encoding that walid added lately\n",
    "    \n",
    "    # week day\n",
    "    df_data['work_day'] = np.where((df_data['day_of_week'] == 5) | (df_data['day_of_week'] == 6) , 0, 1)\n",
    "    df_data.loc[df_data.Holiday == 'Holiday', 'work_day'] = 0\n",
    "    df_data[df_data['Holiday']=='Holiday'].head(2)\n",
    "    \n",
    "    \n",
    "    \n",
    "    #Heat index   انا مش فاهم دا \n",
    "    df_data['temp_F'] = 1.8*df_data['Temperature'] + 32\n",
    "    T = df_data['temp_F']\n",
    "    RH = df_data['Humidity']\n",
    "    df_data['heat_index'] = -42.379 + 2.04901523*T + 10.14333127*RH - .22475541*T*RH - .00683783*T*T - .05481717*RH*RH + .00122874*T*T*RH + .00085282*T*RH*RH - .00000199*T*T*RH*RH    \n",
    "    \n",
    "    \n",
    "    \n",
    "    #df_data[\"Is_Winter\"] = df_data[\"Seasons\"].apply()\n",
    "    # desided not to use it with random forst (it affects the tree badly)\n",
    "    #oneHotEncoder = ce.OneHotEncoder(cols =\"Seasons\",use_cat_names=True)\n",
    "    #df_data = oneHotEncoder.fit_transform(df_data)\n",
    "    \n",
    "    #### looooog\n",
    "    #df_data[\"Wind speed\"] = np.log(df_data[\"Wind speed (m/s)\"]).replace(np.NINF, 0)\n",
    "    ## reversing distribution to be right skewed and not left skewed\n",
    "    \n",
    "    #df_data[\"Visibility\"] = (df_data[\"Visibility\"].max() + df_data[\"Visibility\"].mean()) -df_data[\"Visibility\"]\n",
    "    #applying log scaling\n",
    "    #df_data[\"Visibility\"] =  np.log10(df_data[\"Visibility\"]).replace(np.NINF, 0)\n",
    "    #drop y \n",
    "    \n",
    "    return df_data"
   ]
  },
  {
   "cell_type": "code",
   "execution_count": 5,
   "metadata": {
    "scrolled": false
   },
   "outputs": [],
   "source": [
    "df_data = encode_columns(df_data)"
   ]
  },
  {
   "cell_type": "markdown",
   "metadata": {},
   "source": [
    "# Heat Map"
   ]
  },
  {
   "cell_type": "code",
   "execution_count": 6,
   "metadata": {
    "scrolled": false
   },
   "outputs": [],
   "source": [
    "# corrMatrix = df_data.corr()\n",
    "# plt.subplots(figsize=(20,15))  \n",
    "# sns.heatmap(corrMatrix, cmap='vlag_r', linewidths=.1, annot=True)\n",
    "# plt.show()"
   ]
  },
  {
   "cell_type": "code",
   "execution_count": 7,
   "metadata": {},
   "outputs": [
    {
     "data": {
      "text/plain": [
       "Index(['ID', 'Date', 'y', 'Hour', 'Temperature', 'Humidity', 'Wind speed',\n",
       "       'Visibility', 'Dew point temperature', 'Solar Radiation', 'Rainfall',\n",
       "       'Snowfall', 'Seasons', 'Holiday', 'Functioning Day', 'months', 'days',\n",
       "       'years', 'day_of_week', 'time', 'Seasons_Original', 'Rush_Hour',\n",
       "       'Hour sin', 'Hour cos', 'Day sin', 'Day cos', 'week sin', 'week cos',\n",
       "       'Year sin', 'Year cos', 'Seas sin', 'Seas cos', 'Month sin',\n",
       "       'Month cos', 'Rainfall_MA', 'Snowfall_MA', 'Wind speed_MA', 'work_day',\n",
       "       'temp_F', 'heat_index'],\n",
       "      dtype='object')"
      ]
     },
     "execution_count": 7,
     "metadata": {},
     "output_type": "execute_result"
    }
   ],
   "source": [
    "df_data.columns"
   ]
  },
  {
   "cell_type": "code",
   "execution_count": 8,
   "metadata": {},
   "outputs": [],
   "source": [
    "features_selected = [\n",
    "#'ID',\n",
    "#'Date',\n",
    "#'y',\n",
    "'Hour',\n",
    "'Temperature',\n",
    "'Humidity',\n",
    "#'Wind speed',\n",
    "#'Visibility',\n",
    "#'Dew point temperature',\n",
    "#'Solar Radiation',\n",
    "'Rainfall',\n",
    "#'Snowfall',\n",
    "#'Seasons',\n",
    "#'Holiday',\n",
    "#'Functioning Day',\n",
    "#'months',\n",
    "#'days',\n",
    "#'years',\n",
    "#'day_of_week',\n",
    "#'time',\n",
    "#'Seasons_Original',\n",
    "#'Rush_Hour',\n",
    "#'Hour sin',\n",
    "#'Hour cos',\n",
    "#'Day sin',\n",
    "#'Day cos',\n",
    "#'week sin',\n",
    "'week cos',\n",
    "'Year sin',\n",
    "#'Year cos',\n",
    "#'Seas sin',\n",
    "#'Seas cos',\n",
    "#'Month sin',\n",
    "#'Month cos',\n",
    "'Rainfall_MA',\n",
    "#'Snowfall_MA',\n",
    "#'Wind speed_MA',\n",
    "#'work_day',\n",
    "#'temp_F',\n",
    "#'heat_index'\n",
    "]"
   ]
  },
  {
   "cell_type": "code",
   "execution_count": 9,
   "metadata": {},
   "outputs": [],
   "source": [
    "#Removing Functioning day = 0  cause there is no bike rented in non functioning days  \n",
    "X_train = df_data[df_data[\"Functioning Day\"] == 1]\n",
    "y_train = X_train['y']\n",
    "X_train = X_train.drop(columns=['ID', 'y'])\n",
    "y_train_log = np.log(y_train).replace(np.NINF, 0)"
   ]
  },
  {
   "cell_type": "code",
   "execution_count": 10,
   "metadata": {},
   "outputs": [
    {
     "data": {
      "image/png": "[encoded data removed]",
      "text/plain": [
       "<Figure size 1080x360 with 2 Axes>"
      ]
     },
     "metadata": {},
     "output_type": "display_data"
    }
   ],
   "source": [
    "# this is the target (y) before and after putting it in a logaritmic scale\n",
    "fig, axs = plt.subplots(1,2,figsize=(15,5))\n",
    "fig.suptitle('Distributions of Output')\n",
    "_ = axs[0].hist(x = y_train ,bins = 50)\n",
    "_ = axs[1].hist(x = y_train_log ,bins = 50)"
   ]
  },
  {
   "cell_type": "markdown",
   "metadata": {},
   "source": [
    "# 1 - This is the place where you train your model"
   ]
  },
  {
   "cell_type": "code",
   "execution_count": 11,
   "metadata": {},
   "outputs": [
    {
     "data": {
      "text/plain": [
       "XGBRegressor(alpha=0.02, base_score=0.5, booster='gbtree', colsample_bylevel=1,\n",
       "             colsample_bynode=1, colsample_bytree=1, gamma=0.01, gpu_id=-1,\n",
       "             importance_type='gain', interaction_constraints='',\n",
       "             learning_rate=0.2, max_delta_step=3, max_depth=50,\n",
       "             min_child_weight=80, missing=nan, monotone_constraints='()',\n",
       "             n_estimators=50, n_jobs=12, num_parallel_tree=1, random_state=42,\n",
       "             reg_alpha=0.0199999996, reg_lambda=1, scale_pos_weight=1,\n",
       "             subsample=1, tree_method='exact', validate_parameters=1,\n",
       "             verbosity=0)"
      ]
     },
     "execution_count": 11,
     "metadata": {},
     "output_type": "execute_result"
    }
   ],
   "source": [
    "xgbr = xgb.XGBRegressor(max_depth=50, n_estimators=50, gamma=0.01,min_child_weight=80,\n",
    "                        max_delta_step=3, learning_rate=0.2, random_state=42,verbosity=0, alpha=0.02) \n",
    "xgbr.fit(X_train[features_selected], y_train_log)"
   ]
  },
  {
   "cell_type": "markdown",
   "metadata": {},
   "source": [
    "### Testing accuracy"
   ]
  },
  {
   "cell_type": "code",
   "execution_count": 12,
   "metadata": {},
   "outputs": [],
   "source": [
    "df_full = pd.read_csv('Data/SeoulBikeData_20_30.csv', encoding='cp1256', parse_dates=[0], dayfirst=True)"
   ]
  },
  {
   "cell_type": "code",
   "execution_count": 13,
   "metadata": {},
   "outputs": [],
   "source": [
    "df_full = df_full.rename(columns={'Temperature(°C)': 'Temperature',\n",
    "                                  'Humidity(%)':'Humidity',\n",
    "                                  'Wind speed (m/s)':'Wind speed',\n",
    "                                  'Visibility (10m)':'Visibility',\n",
    "                                  'Dew point temperature(°C)':'Dew point temperature',\n",
    "                                  'Solar Radiation (MJ/m2)':'Solar Radiation',\n",
    "                                  'Rainfall(mm)':'Rainfall',\n",
    "                                  'Snowfall (cm)':'Snowfall'})"
   ]
  },
  {
   "cell_type": "code",
   "execution_count": 14,
   "metadata": {},
   "outputs": [
    {
     "name": "stdout",
     "output_type": "stream",
     "text": [
      "3000\n"
     ]
    }
   ],
   "source": [
    "df_full = encode_columns(df_full)\n",
    "df_full = df_full[df_full[\"days\"] > 20]\n",
    "print(len(df_full))\n",
    "#df_full.info()"
   ]
  },
  {
   "cell_type": "markdown",
   "metadata": {},
   "source": [
    "# 2 - This is the place where you use your trained model to test accuracy"
   ]
  },
  {
   "cell_type": "code",
   "execution_count": 15,
   "metadata": {},
   "outputs": [],
   "source": [
    "y_full_predicted = xgbr.predict(df_full[features_selected])\n",
    "\n",
    "df_full['y'] = np.exp(y_full_predicted)\n",
    "\n",
    "df_full.loc[df_full[\"Functioning Day\"] == 0 ,\"y\"] = 0\n",
    "\n",
    "df_full[df_full[\"y\"] < 0] =0 \n",
    "\n",
    "df_full[\"y\"] = np.round(df_full[\"y\"])"
   ]
  },
  {
   "cell_type": "code",
   "execution_count": 16,
   "metadata": {},
   "outputs": [
    {
     "data": {
      "text/plain": [
       "array([0.1234818 , 0.22815599, 0.09793838, 0.22699355, 0.02269579,\n",
       "       0.02372927, 0.27700529], dtype=float32)"
      ]
     },
     "execution_count": 16,
     "metadata": {},
     "output_type": "execute_result"
    }
   ],
   "source": [
    "xgbr.feature_importances_"
   ]
  },
  {
   "cell_type": "code",
   "execution_count": 17,
   "metadata": {},
   "outputs": [
    {
     "name": "stdout",
     "output_type": "stream",
     "text": [
      "RMSLE =  0.4223686403059705\n"
     ]
    }
   ],
   "source": [
    "msle = sklearn.metrics.mean_squared_log_error(df_full[\"Rented Bike Count\"], df_full[\"y\"])\n",
    "rmsle = np.sqrt(msle)\n",
    "print(\"RMSLE = \",rmsle)"
   ]
  },
  {
   "cell_type": "code",
   "execution_count": 18,
   "metadata": {},
   "outputs": [
    {
     "data": {
      "text/plain": [
       "['Hour',\n",
       " 'Temperature',\n",
       " 'Humidity',\n",
       " 'Rainfall',\n",
       " 'week cos',\n",
       " 'Year sin',\n",
       " 'Rainfall_MA']"
      ]
     },
     "execution_count": 18,
     "metadata": {},
     "output_type": "execute_result"
    }
   ],
   "source": [
    "features_selected"
   ]
  },
  {
   "cell_type": "code",
   "execution_count": 19,
   "metadata": {
    "scrolled": true
   },
   "outputs": [
    {
     "data": {
      "image/png": "[encoded data removed]",
      "text/plain": [
       "<Figure size 1080x360 with 2 Axes>"
      ]
     },
     "metadata": {},
     "output_type": "display_data"
    }
   ],
   "source": [
    "fig, axs = plt.subplots(1,2,figsize=(15,5))\n",
    "fig.suptitle('Distributions of Output')\n",
    "_ = axs[0].hist(x =  df_full[\"y\"] ,bins = 50)\n",
    "_ = axs[1].hist(x = y_full_predicted ,bins = 50)"
   ]
  },
  {
   "cell_type": "code",
   "execution_count": 20,
   "metadata": {},
   "outputs": [
    {
     "data": {
      "image/png": "[encoded data removed]",
      "text/plain": [
       "<Figure size 1080x360 with 2 Axes>"
      ]
     },
     "metadata": {},
     "output_type": "display_data"
    }
   ],
   "source": [
    "fig, axs = plt.subplots(1,2,figsize=(15,5))\n",
    "fig.suptitle('Distributions of Output')\n",
    "_ = axs[0].hist(x =  df_data[\"y\"] ,bins = 50)\n",
    "_ = axs[1].hist(x = np.exp(y_full_predicted) ,bins = 50)"
   ]
  },
  {
   "cell_type": "code",
   "execution_count": 21,
   "metadata": {
    "scrolled": true
   },
   "outputs": [
    {
     "data": {
      "text/plain": [
       "480     145.0\n",
       "481     141.0\n",
       "482      87.0\n",
       "483      65.0\n",
       "484      39.0\n",
       "        ...  \n",
       "8755    850.0\n",
       "8756    735.0\n",
       "8757    679.0\n",
       "8758    636.0\n",
       "8759    533.0\n",
       "Name: y, Length: 3000, dtype: float32"
      ]
     },
     "execution_count": 21,
     "metadata": {},
     "output_type": "execute_result"
    }
   ],
   "source": [
    "df_full[\"y\"]"
   ]
  },
  {
   "cell_type": "code",
   "execution_count": 22,
   "metadata": {},
   "outputs": [
    {
     "data": {
      "text/html": [
       "<div>\n",
       "<style scoped>\n",
       "    .dataframe tbody tr th:only-of-type {\n",
       "        vertical-align: middle;\n",
       "    }\n",
       "\n",
       "    .dataframe tbody tr th {\n",
       "        vertical-align: top;\n",
       "    }\n",
       "\n",
       "    .dataframe thead th {\n",
       "        text-align: right;\n",
       "    }\n",
       "</style>\n",
       "<table border=\"1\" class=\"dataframe\">\n",
       "  <thead>\n",
       "    <tr style=\"text-align: right;\">\n",
       "      <th></th>\n",
       "      <th>ID</th>\n",
       "      <th>Date</th>\n",
       "      <th>Hour</th>\n",
       "      <th>Temperature(�C)</th>\n",
       "      <th>Humidity(%)</th>\n",
       "      <th>Wind speed (m/s)</th>\n",
       "      <th>Visibility (10m)</th>\n",
       "      <th>Dew point temperature(�C)</th>\n",
       "      <th>Solar Radiation (MJ/m2)</th>\n",
       "      <th>Rainfall(mm)</th>\n",
       "      <th>Snowfall (cm)</th>\n",
       "      <th>Seasons</th>\n",
       "      <th>Holiday</th>\n",
       "      <th>Functioning Day</th>\n",
       "    </tr>\n",
       "  </thead>\n",
       "  <tbody>\n",
       "    <tr>\n",
       "      <th>0</th>\n",
       "      <td>5760</td>\n",
       "      <td>2017-12-21</td>\n",
       "      <td>0</td>\n",
       "      <td>-1.3</td>\n",
       "      <td>90</td>\n",
       "      <td>2.0</td>\n",
       "      <td>259</td>\n",
       "      <td>-2.7</td>\n",
       "      <td>0.0</td>\n",
       "      <td>0.0</td>\n",
       "      <td>2.2</td>\n",
       "      <td>Winter</td>\n",
       "      <td>No Holiday</td>\n",
       "      <td>Yes</td>\n",
       "    </tr>\n",
       "    <tr>\n",
       "      <th>1</th>\n",
       "      <td>5761</td>\n",
       "      <td>2017-12-21</td>\n",
       "      <td>1</td>\n",
       "      <td>-1.8</td>\n",
       "      <td>90</td>\n",
       "      <td>1.6</td>\n",
       "      <td>263</td>\n",
       "      <td>-3.2</td>\n",
       "      <td>0.0</td>\n",
       "      <td>0.0</td>\n",
       "      <td>2.2</td>\n",
       "      <td>Winter</td>\n",
       "      <td>No Holiday</td>\n",
       "      <td>Yes</td>\n",
       "    </tr>\n",
       "  </tbody>\n",
       "</table>\n",
       "</div>"
      ],
      "text/plain": [
       "     ID       Date  Hour  Temperature(�C)  Humidity(%)  Wind speed (m/s)  \\\n",
       "0  5760 2017-12-21     0             -1.3           90               2.0   \n",
       "1  5761 2017-12-21     1             -1.8           90               1.6   \n",
       "\n",
       "   Visibility (10m)  Dew point temperature(�C)  Solar Radiation (MJ/m2)  \\\n",
       "0               259                       -2.7                      0.0   \n",
       "1               263                       -3.2                      0.0   \n",
       "\n",
       "   Rainfall(mm)  Snowfall (cm) Seasons     Holiday Functioning Day  \n",
       "0           0.0            2.2  Winter  No Holiday             Yes  \n",
       "1           0.0            2.2  Winter  No Holiday             Yes  "
      ]
     },
     "execution_count": 22,
     "metadata": {},
     "output_type": "execute_result"
    }
   ],
   "source": [
    "df_act_test = pd.read_csv('Data/test.csv', parse_dates=[1], dayfirst=True)\n",
    "df_act_test.head(2)"
   ]
  },
  {
   "cell_type": "code",
   "execution_count": 23,
   "metadata": {},
   "outputs": [
    {
     "data": {
      "text/html": [
       "<div>\n",
       "<style scoped>\n",
       "    .dataframe tbody tr th:only-of-type {\n",
       "        vertical-align: middle;\n",
       "    }\n",
       "\n",
       "    .dataframe tbody tr th {\n",
       "        vertical-align: top;\n",
       "    }\n",
       "\n",
       "    .dataframe thead th {\n",
       "        text-align: right;\n",
       "    }\n",
       "</style>\n",
       "<table border=\"1\" class=\"dataframe\">\n",
       "  <thead>\n",
       "    <tr style=\"text-align: right;\">\n",
       "      <th></th>\n",
       "      <th>ID</th>\n",
       "      <th>y</th>\n",
       "    </tr>\n",
       "  </thead>\n",
       "  <tbody>\n",
       "    <tr>\n",
       "      <th>0</th>\n",
       "      <td>5760</td>\n",
       "      <td>145.0</td>\n",
       "    </tr>\n",
       "    <tr>\n",
       "      <th>1</th>\n",
       "      <td>5761</td>\n",
       "      <td>141.0</td>\n",
       "    </tr>\n",
       "    <tr>\n",
       "      <th>2</th>\n",
       "      <td>5762</td>\n",
       "      <td>87.0</td>\n",
       "    </tr>\n",
       "    <tr>\n",
       "      <th>3</th>\n",
       "      <td>5763</td>\n",
       "      <td>65.0</td>\n",
       "    </tr>\n",
       "    <tr>\n",
       "      <th>4</th>\n",
       "      <td>5764</td>\n",
       "      <td>39.0</td>\n",
       "    </tr>\n",
       "    <tr>\n",
       "      <th>...</th>\n",
       "      <td>...</td>\n",
       "      <td>...</td>\n",
       "    </tr>\n",
       "    <tr>\n",
       "      <th>2995</th>\n",
       "      <td>8755</td>\n",
       "      <td>850.0</td>\n",
       "    </tr>\n",
       "    <tr>\n",
       "      <th>2996</th>\n",
       "      <td>8756</td>\n",
       "      <td>735.0</td>\n",
       "    </tr>\n",
       "    <tr>\n",
       "      <th>2997</th>\n",
       "      <td>8757</td>\n",
       "      <td>679.0</td>\n",
       "    </tr>\n",
       "    <tr>\n",
       "      <th>2998</th>\n",
       "      <td>8758</td>\n",
       "      <td>636.0</td>\n",
       "    </tr>\n",
       "    <tr>\n",
       "      <th>2999</th>\n",
       "      <td>8759</td>\n",
       "      <td>533.0</td>\n",
       "    </tr>\n",
       "  </tbody>\n",
       "</table>\n",
       "<p>3000 rows × 2 columns</p>\n",
       "</div>"
      ],
      "text/plain": [
       "        ID      y\n",
       "0     5760  145.0\n",
       "1     5761  141.0\n",
       "2     5762   87.0\n",
       "3     5763   65.0\n",
       "4     5764   39.0\n",
       "...    ...    ...\n",
       "2995  8755  850.0\n",
       "2996  8756  735.0\n",
       "2997  8757  679.0\n",
       "2998  8758  636.0\n",
       "2999  8759  533.0\n",
       "\n",
       "[3000 rows x 2 columns]"
      ]
     },
     "execution_count": 23,
     "metadata": {},
     "output_type": "execute_result"
    }
   ],
   "source": [
    "df_act_test = df_act_test[['ID']]\n",
    "df_act_test['y'] = df_full[\"y\"].tolist()\n",
    "df_act_test"
   ]
  },
  {
   "cell_type": "code",
   "execution_count": 24,
   "metadata": {},
   "outputs": [],
   "source": [
    "df_act_test.to_csv('submission.csv', index=False)"
   ]
  }
 ],
 "metadata": {
  "kernelspec": {
   "display_name": "Python 3",
   "language": "python",
   "name": "python3"
  },
  "language_info": {
   "codemirror_mode": {
    "name": "ipython",
    "version": 3
   },
   "file_extension": ".py",
   "mimetype": "text/x-python",
   "name": "python",
   "nbconvert_exporter": "python",
   "pygments_lexer": "ipython3",
   "version": "3.8.5"
  }
 },
 "nbformat": 4,
 "nbformat_minor": 4
}
