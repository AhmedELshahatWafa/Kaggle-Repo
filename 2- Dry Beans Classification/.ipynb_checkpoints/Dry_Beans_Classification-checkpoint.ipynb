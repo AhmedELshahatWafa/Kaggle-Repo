{
 "cells": [
  {
   "cell_type": "markdown",
   "metadata": {},
   "source": [
    "# Problem"
   ]
  },
  {
   "cell_type": "markdown",
   "metadata": {},
   "source": [
    "+ Given a set of features extracted from the shape of the beans in images \n",
    "+ Required to Classify the type of each bean. \n",
    "+ There are 7 bean types in this dataset."
   ]
  },
  {
   "cell_type": "markdown",
   "metadata": {},
   "source": [
    "## https://www.kaggle.com/c/dry-beans-classification-iti-ai-pro-intake01"
   ]
  },
  {
   "cell_type": "markdown",
   "metadata": {},
   "source": [
    "# Ranked 17th"
   ]
  },
  {
   "cell_type": "code",
   "execution_count": 1,
   "metadata": {},
   "outputs": [
    {
     "ename": "ModuleNotFoundError",
     "evalue": "No module named 'catboost'",
     "output_type": "error",
     "traceback": [
      "\u001b[1;31m---------------------------------------------------------------------------\u001b[0m",
      "\u001b[1;31mModuleNotFoundError\u001b[0m                       Traceback (most recent call last)",
      "\u001b[1;32mC:\\Users\\AHMED-~1\\AppData\\Local\\Temp/ipykernel_24868/2254197341.py\u001b[0m in \u001b[0;36m<module>\u001b[1;34m\u001b[0m\n\u001b[0;32m     13\u001b[0m \u001b[1;32mfrom\u001b[0m \u001b[0msklearn\u001b[0m\u001b[1;33m.\u001b[0m\u001b[0mmetrics\u001b[0m \u001b[1;32mimport\u001b[0m \u001b[0maccuracy_score\u001b[0m\u001b[1;33m\u001b[0m\u001b[1;33m\u001b[0m\u001b[0m\n\u001b[0;32m     14\u001b[0m \u001b[1;32mfrom\u001b[0m \u001b[0msklearn\u001b[0m\u001b[1;33m.\u001b[0m\u001b[0mensemble\u001b[0m \u001b[1;32mimport\u001b[0m \u001b[1;33m*\u001b[0m\u001b[1;33m\u001b[0m\u001b[1;33m\u001b[0m\u001b[0m\n\u001b[1;32m---> 15\u001b[1;33m \u001b[1;32mfrom\u001b[0m \u001b[0mcatboost\u001b[0m \u001b[1;32mimport\u001b[0m \u001b[0mCatBoostRegressor\u001b[0m\u001b[1;33m\u001b[0m\u001b[1;33m\u001b[0m\u001b[0m\n\u001b[0m\u001b[0;32m     16\u001b[0m \u001b[1;31m# Sklearn\u001b[0m\u001b[1;33m\u001b[0m\u001b[1;33m\u001b[0m\u001b[0m\n\u001b[0;32m     17\u001b[0m \u001b[1;32mfrom\u001b[0m \u001b[0msklearn\u001b[0m\u001b[1;33m.\u001b[0m\u001b[0mmodel_selection\u001b[0m \u001b[1;32mimport\u001b[0m \u001b[0mcross_val_score\u001b[0m\u001b[1;33m,\u001b[0m \u001b[0mGridSearchCV\u001b[0m\u001b[1;33m,\u001b[0m \u001b[0mtrain_test_split\u001b[0m\u001b[1;33m,\u001b[0m \u001b[0mRepeatedKFold\u001b[0m\u001b[1;33m\u001b[0m\u001b[1;33m\u001b[0m\u001b[0m\n",
      "\u001b[1;31mModuleNotFoundError\u001b[0m: No module named 'catboost'"
     ]
    }
   ],
   "source": [
    "import pandas as pd\n",
    "import numpy as np\n",
    "from scipy import stats\n",
    "import matplotlib.pyplot as plt\n",
    "import seaborn as sns\n",
    "sns.set()\n",
    "sns.set(rc = {'figure.figsize':(15,7),})\n",
    "import warnings\n",
    "warnings.filterwarnings(\"ignore\")\n",
    "from sklearn.model_selection import train_test_split,KFold,cross_val_score\n",
    "from sklearn.ensemble import RandomForestClassifier\n",
    "from sklearn.preprocessing import OrdinalEncoder, StandardScaler\n",
    "from sklearn.metrics import accuracy_score\n",
    "from sklearn.ensemble import *\n",
    "from catboost import CatBoostRegressor\n",
    "# Sklearn\n",
    "from sklearn.model_selection import cross_val_score, GridSearchCV, train_test_split, RepeatedKFold\n",
    "from sklearn.tree import DecisionTreeClassifier\n",
    "from sklearn.ensemble import RandomForestClassifier, ExtraTreesClassifier, GradientBoostingClassifier\n",
    "from sklearn.metrics import mean_squared_error, r2_score, mean_squared_log_error, classification_report, accuracy_score,f1_score,confusion_matrix\n",
    "from catboost import CatBoostClassifier\n",
    "from xgboost.sklearn import XGBClassifier\n",
    "from sklearn.neighbors import KNeighborsClassifier"
   ]
  },
  {
   "cell_type": "code",
   "execution_count": null,
   "metadata": {},
   "outputs": [],
   "source": [
    "df_data = pd.read_csv(\"data/train.csv\")\n",
    "or_enc =  OrdinalEncoder()\n",
    "# Encoding Targert \n",
    "df_data[\"y_encoded\"] = or_enc.fit_transform(np.array(df_data[\"y\"]).reshape(-1,1))\n",
    "df_data.head(2)"
   ]
  },
  {
   "cell_type": "code",
   "execution_count": null,
   "metadata": {},
   "outputs": [],
   "source": [
    "cols = list(df_data.columns)\n",
    "cols.remove('y')\n",
    "cols.remove(\"ID\")"
   ]
  },
  {
   "cell_type": "markdown",
   "metadata": {},
   "source": [
    "# Univariate Exploration"
   ]
  },
  {
   "cell_type": "code",
   "execution_count": null,
   "metadata": {},
   "outputs": [],
   "source": [
    "['Area','Perimeter','MajorAxisLength', 'MinorAxisLength','AspectRation',\n",
    " 'Eccentricity', 'ConvexArea', 'EquivDiameter', 'Extent',\n",
    " 'Solidity', 'roundness', 'Compactness', 'ShapeFactor1',\n",
    " 'ShapeFactor2', 'ShapeFactor3', 'ShapeFactor4', 'y_encoded']"
   ]
  },
  {
   "cell_type": "code",
   "execution_count": null,
   "metadata": {
    "scrolled": true
   },
   "outputs": [],
   "source": [
    "x = \"Area\"\n",
    "for x in cols:\n",
    "    df_data_0 = df_data[df_data[\"y\"] == \"HOROZ\"]\n",
    "    df_data_1 = df_data[df_data[\"y\"] == \"SEKER\"]\n",
    "    df_data_2 = df_data[df_data[\"y\"] == \"DERMASON\"]\n",
    "    df_data_3 = df_data[df_data[\"y\"] == \"SIRA\"]\n",
    "    df_data_4 = df_data[df_data[\"y\"] == \"BARBUNYA\"]\n",
    "    df_data_5 = df_data[df_data[\"y\"] == \"CALI\"]\n",
    "    df_data_6 = df_data[df_data[\"y\"] == \"BOMBAY\"]\n",
    "\n",
    "    sns.distplot(df_data_0[x],bins = 50, label=\"HOROZ\")\n",
    "    sns.distplot(df_data_1[x],bins = 50, label=\"SEKER\")\n",
    "    sns.distplot(df_data_2[x],bins = 50, label=\"DERMASON\")\n",
    "    sns.distplot(df_data_3[x],bins = 50, label=\"SIRA\")\n",
    "    sns.distplot(df_data_4[x],bins = 50, label=\"BARBUNYA\")\n",
    "    sns.distplot(df_data_5[x],bins = 50, label=\"CALI\")\n",
    "    sns.distplot(df_data_6[x],bins = 50, label=\"BOMBAY\")\n",
    "\n",
    "    if x == \"Perimeter\":\n",
    "        plt.axvline(680)\n",
    "    \n",
    "    plt.legend()\n",
    "    plt.xlabel(x)\n",
    "    plt.show()"
   ]
  },
  {
   "cell_type": "code",
   "execution_count": null,
   "metadata": {},
   "outputs": [],
   "source": [
    "final_df_data_copy = df_data.copy()"
   ]
  },
  {
   "cell_type": "code",
   "execution_count": null,
   "metadata": {},
   "outputs": [],
   "source": [
    "final_df_data_copy.columns"
   ]
  },
  {
   "cell_type": "markdown",
   "metadata": {},
   "source": [
    "# Editting columns"
   ]
  },
  {
   "cell_type": "code",
   "execution_count": null,
   "metadata": {},
   "outputs": [],
   "source": [
    "final_df_data_copy =  df_data.copy()\n",
    "final_df_data_copy[\"roundness\"] = np.log10(final_df_data_copy[\"roundness\"])\n",
    "final_df_data_copy[\"Solidity\"] = np.exp2(np.exp2(final_df_data_copy[\"Solidity\"]))\n",
    "final_df_data_copy[\"ConvexArea\"] = np.log10(final_df_data_copy[\"ConvexArea\"])"
   ]
  },
  {
   "cell_type": "code",
   "execution_count": null,
   "metadata": {},
   "outputs": [],
   "source": [
    "df_data.columns"
   ]
  },
  {
   "cell_type": "code",
   "execution_count": null,
   "metadata": {},
   "outputs": [],
   "source": [
    "\"Perimeter\",\"MajorAxisLength\"\n",
    "final_df_data_copy[\"is_sira\"] = (final_df_data_copy[\"Perimeter\"] > 750) * (final_df_data_copy[\"Perimeter\"] < 840)\\\n",
    "                              * (final_df_data_copy[\"MajorAxisLength\"] > 270) * (final_df_data_copy[\"MajorAxisLength\"] < 350)\n",
    "final_df_data_copy[\"is_dermason\"] = (final_df_data_copy[\"Area\"] < 33000)* (final_df_data_copy[\"MajorAxisLength\"] < 680)"
   ]
  },
  {
   "cell_type": "code",
   "execution_count": null,
   "metadata": {
    "scrolled": true
   },
   "outputs": [],
   "source": [
    "def log_transform_clean(x):\n",
    "    if x>0:\n",
    "        return np.log(x)\n",
    "    else:\n",
    "        return 0  \n",
    "    \n",
    "lst_cols = [\"ShapeFactor4\"]\n",
    "for name in lst_cols:\n",
    "    if name != \"y\":\n",
    "        if final_df_data_copy[name].min() > 0:\n",
    "            box_cox, lmbda = stats.boxcox(final_df_data_copy[name])\n",
    "            final_df_data_copy[name+\"_bc\"]= box_cox\n",
    "            fig, ((ax1, ax2)) = plt.subplots(1, 2, figsize = (15,7)) \n",
    "            plt.subplots_adjust(left=None, bottom=5, right=None, top=6, wspace=None, hspace=None) \n",
    "            sns.histplot(final_df_data_copy[name], ax=ax1)\n",
    "            sns.histplot(final_df_data_copy[name+\"_bc\"], ax=ax2,bins=50)\n",
    "    else: continue"
   ]
  },
  {
   "cell_type": "code",
   "execution_count": null,
   "metadata": {},
   "outputs": [],
   "source": [
    "cols_to_scale = [\n",
    "'ConvexArea',\n",
    "'Solidity',\n",
    " 'roundness',\n",
    "]"
   ]
  },
  {
   "cell_type": "code",
   "execution_count": null,
   "metadata": {},
   "outputs": [],
   "source": [
    "final_df_data_copy.columns"
   ]
  },
  {
   "cell_type": "code",
   "execution_count": null,
   "metadata": {},
   "outputs": [],
   "source": [
    "sns.heatmap(final_df_data_copy.corr(),annot=True)"
   ]
  },
  {
   "cell_type": "markdown",
   "metadata": {},
   "source": [
    "# Choosing the model"
   ]
  },
  {
   "cell_type": "code",
   "execution_count": null,
   "metadata": {},
   "outputs": [],
   "source": [
    "selected_features = [\n",
    "#'ID',\n",
    "'Area',\n",
    "'ConvexArea',\n",
    "'Perimeter',\n",
    "'MajorAxisLength',\n",
    "'MinorAxisLength',\n",
    "'AspectRation',\n",
    "'Eccentricity',\n",
    "'EquivDiameter',\n",
    "'Extent',\n",
    "'Solidity',\n",
    "'roundness',\n",
    "'Compactness',\n",
    "'ShapeFactor1',\n",
    "'ShapeFactor2',    \n",
    "'ShapeFactor3',  # مفرقتش كتير يعنى\n",
    "'ShapeFactor4',\n",
    "\"is_sira\",\n",
    "\"is_dermason\"\n",
    "]"
   ]
  },
  {
   "cell_type": "code",
   "execution_count": null,
   "metadata": {},
   "outputs": [],
   "source": []
  },
  {
   "cell_type": "code",
   "execution_count": null,
   "metadata": {},
   "outputs": [],
   "source": [
    "#X_train ,X_test ,y_train ,y_test  =train_test_split(final_df_data_copy[selected_features],final_df_data_copy[\"y_encoded\"],test_size=.2)\n",
    "# All Data \n",
    "X_train = final_df_data_copy[selected_features]\n",
    "y_train = final_df_data_copy[\"y_encoded\"]"
   ]
  },
  {
   "cell_type": "code",
   "execution_count": null,
   "metadata": {},
   "outputs": [],
   "source": [
    "%time\n",
    "clf = CatBoostClassifier(depth = 10, iterations= 100, learning_rate= 0.04 ,random_seed = 0,silent=True)\n",
    "clf.fit(X_train, y_train)"
   ]
  },
  {
   "cell_type": "code",
   "execution_count": null,
   "metadata": {},
   "outputs": [],
   "source": [
    "#y_pred = clf.predict(X_test)"
   ]
  },
  {
   "cell_type": "code",
   "execution_count": null,
   "metadata": {},
   "outputs": [],
   "source": [
    "#accuracy_score(y_test, y_pred)"
   ]
  },
  {
   "cell_type": "code",
   "execution_count": null,
   "metadata": {},
   "outputs": [],
   "source": [
    "#clf.predict_proba(X_test)"
   ]
  },
  {
   "cell_type": "code",
   "execution_count": null,
   "metadata": {},
   "outputs": [],
   "source": [
    "#f1_score(y_test, y_pred,average=\"weighted\")"
   ]
  },
  {
   "cell_type": "code",
   "execution_count": null,
   "metadata": {},
   "outputs": [],
   "source": [
    "df_test = pd.read_csv(\"data/test.csv\")\n",
    "df_test"
   ]
  },
  {
   "cell_type": "markdown",
   "metadata": {},
   "source": [
    "# Creating Submission"
   ]
  },
  {
   "cell_type": "code",
   "execution_count": null,
   "metadata": {},
   "outputs": [],
   "source": [
    "df_test[\"roundness\"] = np.log10(df_test[\"roundness\"])\n",
    "df_test[\"Solidity\"] = np.exp2(np.exp2(df_test[\"Solidity\"]))\n",
    "df_test[\"ConvexArea\"] = np.log10(df_test[\"ConvexArea\"])\n",
    "df_test[\"is_sira\"] = (df_test[\"Perimeter\"] > 750) * (df_test[\"Perimeter\"] < 840) \\\n",
    "                    * (df_test[\"MajorAxisLength\"] > 270) * (df_test[\"MajorAxisLength\"] < 350)\n",
    "df_test[\"is_dermason\"] = (df_test[\"Area\"] < 33000)* (df_test[\"MajorAxisLength\"] < 680)\n",
    "df_test_selected = df_test[selected_features]\n",
    "y_pred = clf.predict(df_test_selected)\n",
    "df_test[\"y\"] = or_enc.inverse_transform(y_pred.reshape(-1,1))\n",
    "df_test.set_index(\"ID\",inplace=True)\n",
    "df_test[[\"y\"]].to_csv(\"submission1.csv\")"
   ]
  }
 ],
 "metadata": {
  "kernelspec": {
   "display_name": "Python 3 (ipykernel)",
   "language": "python",
   "name": "python3"
  },
  "language_info": {
   "codemirror_mode": {
    "name": "ipython",
    "version": 3
   },
   "file_extension": ".py",
   "mimetype": "text/x-python",
   "name": "python",
   "nbconvert_exporter": "python",
   "pygments_lexer": "ipython3",
   "version": "3.9.7"
  }
 },
 "nbformat": 4,
 "nbformat_minor": 4
}
